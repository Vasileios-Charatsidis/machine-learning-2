{
 "cells": [
  {
   "cell_type": "markdown",
   "metadata": {},
   "source": [
    "# Lab 2: Inference in Graphical Models\n",
    "\n",
    "### Machine Learning 2, 2016\n",
    "\n",
    "* The lab exercises should be made in groups of two people.\n",
    "* The deadline is Sunday, April 24, 23:59.\n",
    "* Assignment should be sent to t.s.cohen at uva dot nl (Taco Cohen). The subject line of your email should be \"[ML2_2016] lab#_lastname1\\_lastname2\". \n",
    "* Put your and your teammate's names in the body of the email\n",
    "* Attach the .IPYNB (IPython Notebook) file containing your code and answers. Naming of the file follows the same rule as the subject line.\n",
    "\n",
    "Notes on implementation:\n",
    "\n",
    "* You should write your code and answers in an IPython Notebook: http://ipython.org/notebook.html. If you have problems, please contact us.\n",
    "* Among the first lines of your notebook should be \"%pylab inline\". This imports all required modules, and your plots will appear inline.\n",
    "* NOTE: test your code and make sure we can run your notebook / scripts!"
   ]
  },
  {
   "cell_type": "markdown",
   "metadata": {},
   "source": [
    "### Introduction\n",
    "In this assignment, we will implement the sum-product and max-sum algorithms for factor graphs over discrete variables. The relevant theory is covered in chapter 8 of Bishop's PRML book, in particular section 8.4. Read this chapter carefuly before continuing!\n",
    "\n",
    "We will first implement sum-product and max-sum and apply it to a simple poly-tree structured factor graph for medical diagnosis. Then, we will implement a loopy version of the algorithms and use it for image denoising.\n",
    "\n",
    "For this assignment we recommended you stick to numpy ndarrays (constructed with np.array, np.zeros, np.ones, etc.) as opposed to numpy matrices, because arrays can store n-dimensional arrays whereas matrices only work for 2d arrays. We need n-dimensional arrays in order to store conditional distributions with more than 1 conditioning variable. If you want to perform matrix multiplication on arrays, use the np.dot function; all infix operators including *, +, -, work element-wise on arrays."
   ]
  },
  {
   "cell_type": "markdown",
   "metadata": {},
   "source": [
    "## Part 1: The sum-product algorithm\n",
    "\n",
    "We will implement a datastructure to store a factor graph and to facilitate computations on this graph. Recall that a factor graph consists of two types of nodes, factors and variables. Below you will find some classes for these node types to get you started. Carefully inspect this code and make sure you understand what it does; you will have to build on it later."
   ]
  },
  {
   "cell_type": "code",
   "execution_count": 1,
   "metadata": {
    "collapsed": false
   },
   "outputs": [
    {
     "name": "stdout",
     "output_type": "stream",
     "text": [
      "Populating the interactive namespace from numpy and matplotlib\n"
     ]
    }
   ],
   "source": [
    "%pylab inline\n",
    "import logging\n",
    "import sys\n",
    "from types import MethodType\n",
    "\n",
    "LOG_LEVEL = logging.WARNING\n",
    "LOG_FORMAT = '%(name)s - %(message)s'\n",
    "logging.basicConfig(format=LOG_FORMAT)\n",
    "# Make root logger print in notebook\n",
    "root_logger = logging.getLogger()\n",
    "root_logger.setLevel(logging.WARNING)\n",
    "root_logger.handlers[0].stream = sys.stdout"
   ]
  },
  {
   "cell_type": "code",
   "execution_count": 2,
   "metadata": {
    "collapsed": false
   },
   "outputs": [],
   "source": [
    "class Node(object):\n",
    "    \"\"\"\n",
    "    Base-class for Nodes in a factor graph. Only instantiate sub-classes of Node.\n",
    "    \"\"\"\n",
    "    def __init__(self, name):\n",
    "        # A name for this Node, for printing purposes\n",
    "        self.name = name\n",
    "        \n",
    "        # Setup logger\n",
    "        self.logger = logging.getLogger(name)\n",
    "        self.logger.setLevel(LOG_LEVEL)\n",
    "        \n",
    "        # Neighbours in the graph, identified with their index in this list.\n",
    "        # i.e. self.neighbours contains neighbour 0 through len(self.neighbours) - 1.\n",
    "        self.neighbours = []\n",
    "        \n",
    "        # Reset the node-state (not the graph topology)\n",
    "        self.reset()\n",
    "    \n",
    "    def reset(self):\n",
    "        # Incoming messages; a dictionary mapping neighbours to messages.\n",
    "        # That is, it maps  Node -> np.ndarray.\n",
    "        self.in_msgs = {}\n",
    "        \n",
    "        # A set of neighbours for which this node has pending messages.\n",
    "        # We use a python set object so we don't have to worry about duplicates.\n",
    "        self.pending = set([])\n",
    "\n",
    "    def add_neighbour(self, nb):\n",
    "        self.neighbours.append(nb)\n",
    "\n",
    "    def send_sp_msg(self, other):\n",
    "        # To be implemented in subclass.\n",
    "        raise Exception('Method send_sp_msg not implemented in base-class Node')\n",
    "   \n",
    "    def send_ms_msg(self, other):\n",
    "        # To be implemented in subclass.\n",
    "        raise Exception('Method send_ms_msg not implemented in base-class Node')\n",
    "    \n",
    "    def receive_msg(self, other, msg):\n",
    "        # Store the incomming message, replacing previous messages from the same node\n",
    "        self.in_msgs[other] = msg\n",
    "\n",
    "        # TODO: add pending messages\n",
    "        # self.pending.update(...)\n",
    "    \n",
    "    def __str__(self):\n",
    "        # This is printed when using 'print node_instance'\n",
    "        return self.name\n",
    "\n",
    "\n",
    "class Variable(Node):\n",
    "    def __init__(self, name, num_states):\n",
    "        \"\"\"\n",
    "        Variable node constructor.\n",
    "        Args:\n",
    "            name: a name string for this node. Used for printing. \n",
    "            num_states: the number of states this variable can take.\n",
    "            Allowable states run from 0 through (num_states - 1).\n",
    "            For example, for a binary variable num_states=2,\n",
    "            and the allowable states are 0, 1.\n",
    "        \"\"\"\n",
    "        self.num_states = num_states\n",
    "        \n",
    "        # Call the base-class constructor\n",
    "        super(Variable, self).__init__(name)\n",
    "    \n",
    "    def set_observed(self, observed_state):\n",
    "        \"\"\"\n",
    "        Set this variable to an observed state.\n",
    "        Args:\n",
    "            observed_state: an integer value in [0, self.num_states - 1].\n",
    "        \"\"\"\n",
    "        # Observed state is represented as a 1-of-N variable\n",
    "        # Could be 0.0 for sum-product, but log(0.0) = -inf so a tiny value is preferable for max-sum\n",
    "        self.observed_state[:] = 0.000001\n",
    "        self.observed_state[observed_state] = 1.0\n",
    "        self.is_observed = True\n",
    "        \n",
    "    def set_latent(self):\n",
    "        \"\"\"\n",
    "        Erase an observed state for this variable and consider it latent again.\n",
    "        \"\"\"\n",
    "        # No state is preferred, so set all entries of observed_state to 1.0\n",
    "        # Using this representation we need not differentiate between observed and latent\n",
    "        # variables when sending messages.\n",
    "        self.observed_state[:] = 1.0\n",
    "        self.is_observed = False\n",
    "        \n",
    "    def reset(self):\n",
    "        super(Variable, self).reset()\n",
    "        self.observed_state = np.ones(self.num_states)\n",
    "        self.is_observed = False\n",
    "        \n",
    "    def marginal(self, Z=None):\n",
    "        \"\"\"\n",
    "        Compute the marginal distribution of this Variable.\n",
    "        It is assumed that message passing has completed when this function is called.\n",
    "        Args:\n",
    "            Z: an optional normalization constant can be passed in. If None is passed, Z is computed.\n",
    "        Returns: marginal, Z. The first is a numpy array containing the normalized marginal distribution.\n",
    "         Z is either equal to the input Z, or computed in this function (if Z=None was passed).\n",
    "        \"\"\"\n",
    "        # TODO: compute marginal\n",
    "        return None, Z\n",
    "    \n",
    "    def send_sp_msg(self, other):\n",
    "        # TODO: implement Variable -> Factor message for sum-product\n",
    "        pass\n",
    "   \n",
    "    def send_ms_msg(self, other):\n",
    "        # TODO: implement Variable -> Factor message for max-sum\n",
    "        pass\n",
    "\n",
    "class Factor(Node):\n",
    "    def __init__(self, name, f, neighbours):\n",
    "        \"\"\"\n",
    "        Factor node constructor.\n",
    "        Args:\n",
    "            name: a name string for this node. Used for printing\n",
    "            f: a numpy.ndarray with N axes, where N is the number of neighbours.\n",
    "               That is, the axes of f correspond to variables, and the index along that axes corresponds to a value of that variable.\n",
    "               Each axis of the array should have as many entries as the corresponding neighbour variable has states.\n",
    "            neighbours: a list of neighbouring Variables. Bi-directional connections are created.\n",
    "        \"\"\"\n",
    "        # Call the base-class constructor\n",
    "        super(Factor, self).__init__(name)\n",
    "\n",
    "        assert len(neighbours) == f.ndim, 'Factor function f should accept as many arguments as this Factor node has neighbours'\n",
    "        \n",
    "        for nb_ind in range(len(neighbours)):\n",
    "            nb = neighbours[nb_ind]\n",
    "            assert f.shape[nb_ind] == nb.num_states, 'The range of the factor function f is invalid for input %i %s' % (nb_ind, nb.name)\n",
    "            self.add_neighbour(nb)\n",
    "            nb.add_neighbour(self)\n",
    "\n",
    "        self.f = f\n",
    "        \n",
    "    def send_sp_msg(self, other):\n",
    "        # TODO: implement Factor -> Variable message for sum-product\n",
    "        pass\n",
    "   \n",
    "    def send_ms_msg(self, other):\n",
    "        # TODO: implement Factor -> Variable message for max-sum\n",
    "        pass\n"
   ]
  },
  {
   "cell_type": "markdown",
   "metadata": {},
   "source": [
    "### 1.1 Instantiate network (10 points)\n",
    "Convert the directed graphical model (\"Bayesian Network\") shown below to a factor graph. Instantiate this graph by creating Variable and Factor instances and linking them according to the graph structure. \n",
    "To instantiate the factor graph, first create the Variable nodes and then create Factor nodes, passing a list of neighbour Variables to each Factor.\n",
    "Use the following prior and conditional probabilities.\n",
    "\n",
    "$$\n",
    "p(\\verb+Influenza+) = 0.05 \\\\\\\\\n",
    "p(\\verb+Smokes+) = 0.2 \\\\\\\\\n",
    "$$\n",
    "\n",
    "$$\n",
    "p(\\verb+SoreThroat+ = 1 | \\verb+Influenza+ = 1) = 0.3 \\\\\\\\\n",
    "p(\\verb+SoreThroat+ = 1 | \\verb+Influenza+ = 0) = 0.001 \\\\\\\\\n",
    "p(\\verb+Fever+ = 1| \\verb+Influenza+ = 1) = 0.9 \\\\\\\\\n",
    "p(\\verb+Fever+ = 1| \\verb+Influenza+ = 0) = 0.05 \\\\\\\\\n",
    "p(\\verb+Bronchitis+ = 1 | \\verb+Influenza+ = 1, \\verb+Smokes+ = 1) = 0.99 \\\\\\\\\n",
    "p(\\verb+Bronchitis+ = 1 | \\verb+Influenza+ = 1, \\verb+Smokes+ = 0) = 0.9 \\\\\\\\\n",
    "p(\\verb+Bronchitis+ = 1 | \\verb+Influenza+ = 0, \\verb+Smokes+ = 1) = 0.7 \\\\\\\\\n",
    "p(\\verb+Bronchitis+ = 1 | \\verb+Influenza+ = 0, \\verb+Smokes+ = 0) = 0.0001 \\\\\\\\\n",
    "p(\\verb+Coughing+ = 1| \\verb+Bronchitis+ = 1) = 0.8 \\\\\\\\\n",
    "p(\\verb+Coughing+ = 1| \\verb+Bronchitis+ = 0) = 0.07 \\\\\\\\\n",
    "p(\\verb+Wheezing+ = 1| \\verb+Bronchitis+ = 1) = 0.6 \\\\\\\\\n",
    "p(\\verb+Wheezing+ = 1| \\verb+Bronchitis+ = 0) = 0.001 \\\\\\\\\n",
    "$$"
   ]
  },
  {
   "cell_type": "code",
   "execution_count": 3,
   "metadata": {
    "collapsed": false
   },
   "outputs": [
    {
     "data": {
      "image/png": "[encoded data removed]",
      "text/plain": [
       "<IPython.core.display.Image object>"
      ]
     },
     "execution_count": 3,
     "metadata": {},
     "output_type": "execute_result"
    }
   ],
   "source": [
    "from IPython.core.display import Image \n",
    "Image(filename='bn.png') "
   ]
  },
  {
   "cell_type": "code",
   "execution_count": 4,
   "metadata": {
    "collapsed": false
   },
   "outputs": [],
   "source": [
    "# Create variable nodes\n",
    "influenza = Variable('Influenza', 2)\n",
    "smokes = Variable('Smokes', 2)\n",
    "sore_throat = Variable('SoreThroat', 2)\n",
    "fever = Variable('Fever', 2)\n",
    "bronchitis = Variable('Bronchitis', 2)\n",
    "coughing = Variable('Coughing', 2)\n",
    "wheezing = Variable('Wheezing', 2)\n",
    "\n",
    "# Create factor nodes\n",
    "influenza_prior = Factor('Influenza prior', np.array([1. - .05, .05]), [influenza])\n",
    "smokes_prior = Factor('Smokes prior', np.array([1. - .2, .2]), [smokes])\n",
    "st_given_flu = Factor('SoreThroat given Influenza', np.array([\n",
    "            [1. - .001, 1. - .3],\n",
    "            [.001, .001]\n",
    "        ]), [sore_throat, influenza])\n",
    "fever_given_flu = Factor('Fever given Influenza', np.array([\n",
    "            [1. - .05, 1. - .9],\n",
    "            [.05, .9]\n",
    "        ]), [fever, influenza])\n",
    "bronchitis_given_flu_smokes = Factor('Bronchitis given Inf. and Smokes', np.array([\n",
    "            [\n",
    "                [1. - .0001, 1. - .7],\n",
    "                [1. - .9, 1. - .99]\n",
    "            ], [\n",
    "                [.0001, .7],\n",
    "                [.9, .99]\n",
    "            ]\n",
    "        ]), [bronchitis, influenza, smokes])\n",
    "coughing_given_bron = Factor('Coughing given Bronchitis', np.array([\n",
    "            [1. - .07, 1. - .8],\n",
    "            [.07, .8]\n",
    "        ]), [coughing, bronchitis])\n",
    "wheezing_given_bron = Factor('Wheezing given Bronchitis', np.array([\n",
    "            [1. - .001, 1. - .6],\n",
    "            [.001, .6]\n",
    "        ]), [wheezing, bronchitis])\n",
    "\n",
    "\n",
    "all_nodes = [influenza, smokes, sore_throat, coughing, wheezing, bronchitis, fever,\n",
    "            influenza_prior, smokes_prior, st_given_flu, coughing_given_bron, wheezing_given_bron,\n",
    "            bronchitis_given_flu_smokes, fever_given_flu]"
   ]
  },
  {
   "cell_type": "markdown",
   "metadata": {},
   "source": [
    "### 1.2 Factor to variable messages (20 points)\n",
    "Write a method `send_sp_msg(self, other)` for the Factor class, that checks if all the information required to pass a message to Variable `other` is present, computes the message and sends it to `other`. \"Sending\" here simply means calling the `receive_msg` function of the receiving node (we will implement this later). The message itself should be represented as a numpy array (np.array) whose length is equal to the number of states of the variable.\n",
    "\n",
    "An elegant and efficient solution can be obtained using the n-way outer product of vectors. This product takes n vectors $\\mathbf{x}^{(1)}, \\ldots, \\mathbf{x}^{(n)}$ and computes a $n$-dimensional tensor (ndarray) whose element $i_0,i_1,...,i_n$ is given by $\\prod_j \\mathbf{x}^{(j)}_{i_j}$. In python, this is realized as `np.multiply.reduce(np.ix_(*vectors))` for a python list `vectors` of 1D numpy arrays. Try to figure out how this statement works -- it contains some useful functional programming techniques. Another function that you may find useful in computing the message is `np.tensordot`."
   ]
  },
  {
   "cell_type": "code",
   "execution_count": 5,
   "metadata": {
    "collapsed": true
   },
   "outputs": [],
   "source": [
    "def node_check_send_info(self, other):\n",
    "    assert other in self.neighbours, \\\n",
    "        'Trying to send message to not neighbouring node {} -> {}'.format(self.name, other.name)\n",
    "    # Check if all information required is present\n",
    "    # that is check if have received messages from all neighboring\n",
    "    # variables except for 'other'\n",
    "    received_from = self.in_msgs.keys()\n",
    "    other_neighbours = [n for n in self.neighbours if n != other]\n",
    "    all_received = reduce(lambda acc, n: acc and n in received_from, other_neighbours, True)\n",
    "    assert all_received, 'Node {} has not all needed information'.format(self.name)\n",
    "\n",
    "\n",
    "# Bound function as Node class method\n",
    "Node.check_send_info = MethodType(node_check_send_info, None, Node)"
   ]
  },
  {
   "cell_type": "code",
   "execution_count": 6,
   "metadata": {
    "collapsed": false
   },
   "outputs": [],
   "source": [
    "def factor_send_sp_msg(self, other):\n",
    "    self.logger.info('Sending message to %s', other)\n",
    "    # Check if all information required is present\n",
    "    self.check_send_info(other)\n",
    "    \n",
    "    # Compute the message\n",
    "    if len(self.neighbours) == 1:\n",
    "        msg = self.f\n",
    "    else:\n",
    "        other_neighbours = [n for n in self.neighbours if n != other]\n",
    "        vectors = [self.in_msgs[node] for node in other_neighbours]\n",
    "        self.logger.debug('Factor vectors\\n%s', vectors)\n",
    "        multiplication = np.multiply.reduce(np.ix_(*vectors))\n",
    "        other_i = self.neighbours.index(other)\n",
    "        f_axes = filter(lambda i: not i == other_i, range(len(self.neighbours)))\n",
    "        msg = np.tensordot(self.f, multiplication, axes=(f_axes, range(multiplication.ndim)))\n",
    "\n",
    "    # Send message to other\n",
    "    other.receive_msg(self, msg)\n",
    "    for p in self.pending: self.logger.debug('Pending %s', p)\n",
    "    self.pending.discard(other)\n",
    "\n",
    "\n",
    "# Bound function as Factor class method\n",
    "Factor.send_sp_msg = MethodType(factor_send_sp_msg, None, Factor)"
   ]
  },
  {
   "cell_type": "markdown",
   "metadata": {},
   "source": [
    "### 1.3 Variable to factor messages (10 points)\n",
    "\n",
    "Write a method `send_sp_message(self, other)` for the Variable class, that checks if all the information required to pass a message to Variable var is present, computes the message and sends it to factor."
   ]
  },
  {
   "cell_type": "code",
   "execution_count": 7,
   "metadata": {
    "collapsed": true
   },
   "outputs": [],
   "source": [
    "def variable_send_sp_msg(self, other):\n",
    "    self.logger.info('Sending message to %s', other)\n",
    "    # Check if all information required is present\n",
    "    self.check_send_info(other)\n",
    "\n",
    "    # Compute the message\n",
    "    if len(self.neighbours) == 1:\n",
    "        msg = np.ones(self.num_states)\n",
    "    else:\n",
    "        other_neighbours = [n for n in self.neighbours if n != other]\n",
    "        vectors = [self.in_msgs[node] for node in other_neighbours]\n",
    "        self.logger.debug('Variable vectors\\n%s', vectors)\n",
    "        msg = np.multiply.reduce(vectors)\n",
    "        \n",
    "    # Send the message\n",
    "    other.receive_msg(self, msg)\n",
    "    for p in self.pending: self.logger.debug('Pending %s', p)\n",
    "    self.pending.discard(other)\n",
    "\n",
    "\n",
    "# Bound function as Variable class method\n",
    "Variable.send_sp_msg = MethodType(variable_send_sp_msg, None, Variable)"
   ]
  },
  {
   "cell_type": "markdown",
   "metadata": {},
   "source": [
    "### 1.4 Compute marginal (10 points)\n",
    "Later in this assignment, we will implement message passing schemes to do inference. Once the message passing has completed, we will want to compute local marginals for each variable.\n",
    "Write the method `marginal` for the Variable class, that computes a marginal distribution over that node."
   ]
  },
  {
   "cell_type": "code",
   "execution_count": 8,
   "metadata": {
    "collapsed": true
   },
   "outputs": [],
   "source": [
    "def marginal(self, Z=None):\n",
    "    vectors = [self.in_msgs[node] for node in self.neighbours]\n",
    "    unnormalized = np.multiply.reduce(vectors)\n",
    "    if not Z:\n",
    "        Z = unnormalized.sum()\n",
    "    marginal = unnormalized / Z\n",
    "    return marginal, Z\n",
    "\n",
    "\n",
    "# Bound function as Variable class method\n",
    "Variable.marginal = MethodType(marginal, None, Variable)"
   ]
  },
  {
   "cell_type": "markdown",
   "metadata": {},
   "source": [
    "### 1.5 Receiving messages (10 points)\n",
    "In order to implement the loopy and non-loopy message passing algorithms, we need some way to determine which nodes are ready to send messages to which neighbours. To do this in a way that works for both loopy and non-loopy algorithms, we make use of the concept of \"pending messages\", which is explained in Bishop (8.4.7): \n",
    "\"we will say that a (variable or factor)\n",
    "node a has a message pending on its link to a node b if node a has received any\n",
    "message on any of its other links since the last time it send (sic) a message to b. Thus,\n",
    "when a node receives a message on one of its links, this creates pending messages\n",
    "on all of its other links.\"\n",
    "\n",
    "Keep in mind that for the non-loopy algorithm, nodes may not have received any messages on some or all of their links. Therefore, before we say node a has a pending message for node b, we must check that node a has received all messages needed to compute the message that is to be sent to b.\n",
    "\n",
    "Modify the function `receive_msg`, so that it updates the self.pending variable as described above. The member self.pending is a set that is to be filled with Nodes to which self has pending messages. Modify the `send_msg` functions to remove pending messages as they are sent."
   ]
  },
  {
   "cell_type": "code",
   "execution_count": 9,
   "metadata": {
    "collapsed": true
   },
   "outputs": [],
   "source": [
    "def receive_msg(self, other, msg):\n",
    "    # Store the incomming message, replacing previous messages from the same node\n",
    "    self.in_msgs[other] = msg\n",
    "    self.logger.debug('Received message from %s: %s', other, msg)\n",
    "\n",
    "    all_other_nodes = [node for node in self.neighbours if node != other]\n",
    "    received_from = set(self.in_msgs.keys())\n",
    "    to_append_nodes = []\n",
    "    for node in all_other_nodes:\n",
    "        other_nodes = set([n for n in self.neighbours if n != node])\n",
    "        if other_nodes <= received_from:\n",
    "            to_append_nodes.append(node)\n",
    "\n",
    "    self.pending.update(to_append_nodes)\n",
    "\n",
    "\n",
    "# Bound function as Node class method\n",
    "Node.receive_msg = MethodType(receive_msg, None, Node)"
   ]
  },
  {
   "cell_type": "markdown",
   "metadata": {},
   "source": [
    "### 1.6 Inference Engine (10 points)\n",
    "Write a function `sum_product(node_list)` that runs the sum-product message passing algorithm on a tree-structured factor graph with given nodes. The input parameter `node_list` is a list of all Node instances in the graph, which is assumed to be ordered correctly. That is, the list starts with a leaf node, which can always send a message. Subsequent nodes in `node_list` should be capable of sending a message when the pending messages of preceding nodes in the list have been sent. The sum-product algorithm then proceeds by passing over the list from beginning to end, sending all pending messages at the nodes it encounters. Then, in reverse order, the algorithm traverses the list again and again sends all pending messages at each node as it is encountered. For this to work, you must initialize pending messages for all the leaf nodes, e.g. `influenza_prior.pending.add(influenza)`, where `influenza_prior` is a Factor node corresponding the the prior, `influenza` is a Variable node and the only connection of `influenza_prior` goes to `influenza`.\n",
    "\n",
    "\n"
   ]
  },
  {
   "cell_type": "code",
   "execution_count": 10,
   "metadata": {
    "collapsed": true
   },
   "outputs": [],
   "source": [
    "def sum_product(node_list):\n",
    "    # Performs a single pass in one direction\n",
    "    def do_pass(n_list):\n",
    "        for i in range(len(n_list)):\n",
    "            node = n_list[i]\n",
    "            root_logger.debug('Pass %d %s', i, node)\n",
    "            pending_nodes = list(node.pending)\n",
    "            for pending in pending_nodes:\n",
    "                node.send_sp_msg(pending)\n",
    "            root_logger.debug('')\n",
    "    \n",
    "    # Forward pass\n",
    "    do_pass(node_list)\n",
    "    # Backward pass\n",
    "    do_pass(list(reversed(node_list)))"
   ]
  },
  {
   "cell_type": "code",
   "execution_count": 11,
   "metadata": {
    "collapsed": false,
    "scrolled": true
   },
   "outputs": [
    {
     "name": "stdout",
     "output_type": "stream",
     "text": [
      "p(sore_throat=0) = 0.998984823105\n",
      "p(sore_throat=1) = 0.00101517689457\n"
     ]
    }
   ],
   "source": [
    "def init_graph(observed=[]):\n",
    "    # Reset all nodes\n",
    "    for node in all_nodes: node.reset()\n",
    "    \n",
    "    # Setup leaf nodes\n",
    "    influenza_prior.pending.add(influenza)\n",
    "    smokes_prior.pending.add(smokes)\n",
    "    sore_throat.pending.add(st_given_flu)\n",
    "    fever.pending.add(fever_given_flu)\n",
    "    coughing.pending.add(coughing_given_bron)\n",
    "    wheezing.pending.add(wheezing_given_bron)\n",
    "\n",
    "    # Setup graph ordering\n",
    "    return [influenza_prior, smokes_prior, coughing,\n",
    "            wheezing, sore_throat, fever, st_given_flu,\n",
    "            fever_given_flu, coughing_given_bron, wheezing_given_bron,\n",
    "            smokes, influenza, bronchitis, bronchitis_given_flu_smokes]\n",
    "\n",
    "graph = init_graph()\n",
    "# Start sum-product algorithm\n",
    "sum_product(graph)\n",
    "\n",
    "st_marginal, _ = sore_throat.marginal()\n",
    "print 'p(sore_throat=0) =', st_marginal[0]\n",
    "print 'p(sore_throat=1) =', st_marginal[1]"
   ]
  },
  {
   "cell_type": "markdown",
   "metadata": {},
   "source": [
    "### 1.7 Observed variables and probabilistic queries (15 points)\n",
    "We will now use the inference engine to answer probabilistic queries. That is, we will set certain variables to observed values, and obtain the marginals over latent variables. We have already provided functions `set_observed` and `set_latent` that manage a member of Variable called `observed_state`. Modify the `Variable.send_msg` and `Variable.marginal` routines that you wrote before, to use `observed_state` so as to get the required marginals when some nodes are observed."
   ]
  },
  {
   "cell_type": "code",
   "execution_count": 12,
   "metadata": {
    "collapsed": false
   },
   "outputs": [],
   "source": [
    "def variable_send_sp_msg_obs(self, other):\n",
    "    self.logger.info('Sending message to %s', other)\n",
    "    \n",
    "    # Compute the message\n",
    "    if len(self.neighbours) == 1 or self.is_observed:\n",
    "        msg = self.observed_state\n",
    "    else:\n",
    "        # Check if all information required is present\n",
    "        self.check_send_info(other)\n",
    "        other_neighbours = [n for n in self.neighbours if n != other]\n",
    "        vectors = [self.in_msgs[node] for node in other_neighbours]\n",
    "        self.logger.debug('Variable vectors\\n%s', vectors)\n",
    "        msg = np.multiply.reduce(vectors)\n",
    "        \n",
    "    # Send the message\n",
    "    other.receive_msg(self, msg)\n",
    "    for p in self.pending: self.logger.debug('Pending %s', p)\n",
    "    self.pending.discard(other)\n",
    "\n",
    "\n",
    "def marginal_obs(self, Z=None):\n",
    "    if self.is_observed:\n",
    "        unnormalized = self.observed_state\n",
    "    else:\n",
    "        vectors = [self.in_msgs[node] for node in self.neighbours]\n",
    "        unnormalized = np.multiply.reduce(vectors)\n",
    "    if not Z:\n",
    "        Z = unnormalized.sum()\n",
    "    marginal = unnormalized / Z\n",
    "    return marginal, Z\n",
    "\n",
    "\n",
    "# Bound functions as Variable class method\n",
    "Variable.marginal = MethodType(marginal_obs, None, Variable)\n",
    "Variable.send_sp_msg = MethodType(variable_send_sp_msg_obs, None, Variable)"
   ]
  },
  {
   "cell_type": "code",
   "execution_count": 13,
   "metadata": {
    "collapsed": false,
    "scrolled": true
   },
   "outputs": [
    {
     "name": "stdout",
     "output_type": "stream",
     "text": [
      "p(coughing=0|influenza=1,smokes=1,bronchitis=1) = 0.200000729999\n",
      "p(coughing=1|influenza=1,smokes=1,bronchitis=1) = 0.799999270001\n",
      "p(sore_throat=0|influenza=1,smokes=1,bronchitis=1) = 0.998573467085\n",
      "p(sore_throat=1|influenza=1,smokes=1,bronchitis=1) = 0.00142653291507\n"
     ]
    }
   ],
   "source": [
    "graph = init_graph()\n",
    "influenza.set_observed(1)\n",
    "smokes.set_observed(1)\n",
    "bronchitis.set_observed(1)\n",
    "\n",
    "sum_product(graph)\n",
    "\n",
    "coughing_marginal, _ = coughing.marginal()\n",
    "print 'p(coughing=0|influenza=1,smokes=1,bronchitis=1) =', coughing_marginal[0]\n",
    "print 'p(coughing=1|influenza=1,smokes=1,bronchitis=1) =', coughing_marginal[1]\n",
    "\n",
    "st_marginal, _ = sore_throat.marginal()\n",
    "print 'p(sore_throat=0|influenza=1,smokes=1,bronchitis=1) =', st_marginal[0]\n",
    "print 'p(sore_throat=1|influenza=1,smokes=1,bronchitis=1) =', st_marginal[1]"
   ]
  },
  {
   "cell_type": "code",
   "execution_count": 14,
   "metadata": {
    "collapsed": false,
    "scrolled": true
   },
   "outputs": [
    {
     "name": "stdout",
     "output_type": "stream",
     "text": [
      "p(coughing=0|influenza=1,smokes=1,bronchitis=0) = 0.929999270001\n",
      "p(coughing=1|influenza=1,smokes=1,bronchitis=0) = 0.0700007299993\n",
      "p(sore_throat=0|influenza=1,smokes=1,bronchitis=0) = 0.998573467085\n",
      "p(sore_throat=1|influenza=1,smokes=1,bronchitis=0) = 0.00142653291507\n"
     ]
    }
   ],
   "source": [
    "graph = init_graph()\n",
    "influenza.set_observed(1)\n",
    "smokes.set_observed(1)\n",
    "bronchitis.set_observed(0)\n",
    "\n",
    "sum_product(graph)\n",
    "\n",
    "coughing_marginal, _ = coughing.marginal()\n",
    "print 'p(coughing=0|influenza=1,smokes=1,bronchitis=0) =', coughing_marginal[0]\n",
    "print 'p(coughing=1|influenza=1,smokes=1,bronchitis=0) =', coughing_marginal[1]\n",
    "\n",
    "st_marginal, _ = sore_throat.marginal()\n",
    "print 'p(sore_throat=0|influenza=1,smokes=1,bronchitis=0) =', st_marginal[0]\n",
    "print 'p(sore_throat=1|influenza=1,smokes=1,bronchitis=0) =', st_marginal[1]"
   ]
  },
  {
   "cell_type": "code",
   "execution_count": 15,
   "metadata": {
    "collapsed": false
   },
   "outputs": [
    {
     "name": "stdout",
     "output_type": "stream",
     "text": [
      "p(coughing=0|influenza=1,smokes=1) = 0.2073002774\n",
      "p(coughing=1|influenza=1,smokes=1) = 0.7926997226\n",
      "p(sore_throat=0|influenza=1,smokes=1) = 0.998573467085\n",
      "p(sore_throat=1|influenza=1,smokes=1) = 0.00142653291507\n"
     ]
    }
   ],
   "source": [
    "graph = init_graph()\n",
    "influenza.set_observed(1)\n",
    "smokes.set_observed(1)\n",
    "\n",
    "sum_product(graph)\n",
    "\n",
    "coughing_marginal, _ = coughing.marginal()\n",
    "print 'p(coughing=0|influenza=1,smokes=1) =', coughing_marginal[0]\n",
    "print 'p(coughing=1|influenza=1,smokes=1) =', coughing_marginal[1]\n",
    "\n",
    "st_marginal, _ = sore_throat.marginal()\n",
    "print 'p(sore_throat=0|influenza=1,smokes=1) =', st_marginal[0]\n",
    "print 'p(sore_throat=1|influenza=1,smokes=1) =', st_marginal[1]"
   ]
  },
  {
   "cell_type": "code",
   "execution_count": 16,
   "metadata": {
    "collapsed": false,
    "scrolled": true
   },
   "outputs": [
    {
     "name": "stdout",
     "output_type": "stream",
     "text": [
      "p(coughing=0|influenza=1,smokes=0) = 0.273000591226\n",
      "p(coughing=1|influenza=1,smokes=0) = 0.726999408774\n",
      "p(sore_throat=0|influenza=1,smokes=0) = 0.998573467085\n",
      "p(sore_throat=1|influenza=1,smokes=0) = 0.00142653291507\n"
     ]
    }
   ],
   "source": [
    "graph = init_graph()\n",
    "influenza.set_observed(1)\n",
    "smokes.set_observed(0)\n",
    "\n",
    "sum_product(graph)\n",
    "\n",
    "coughing_marginal, _ = coughing.marginal()\n",
    "print 'p(coughing=0|influenza=1,smokes=0) =', coughing_marginal[0]\n",
    "print 'p(coughing=1|influenza=1,smokes=0) =', coughing_marginal[1]\n",
    "\n",
    "st_marginal, _ = sore_throat.marginal()\n",
    "print 'p(sore_throat=0|influenza=1,smokes=0) =', st_marginal[0]\n",
    "print 'p(sore_throat=1|influenza=1,smokes=0) =', st_marginal[1]"
   ]
  },
  {
   "cell_type": "markdown",
   "metadata": {},
   "source": [
    "### 1.8 Sum-product and MAP states (5 points)\n",
    "A maximum a posteriori state (MAP-state) is an assignment of all latent variables that maximizes the probability of latent variables given observed variables:\n",
    "$$\n",
    "\\mathbf{x}_{\\verb+MAP+} = \\arg\\max _{\\mathbf{x}} p(\\mathbf{x} | \\mathbf{y})\n",
    "$$\n",
    "Could we use the sum-product algorithm to obtain a MAP state? If yes, how? If no, why not?\n"
   ]
  },
  {
   "cell_type": "markdown",
   "metadata": {},
   "source": []
  },
  {
   "cell_type": "markdown",
   "metadata": {},
   "source": [
    "## Part 2: The max-sum algorithm\n",
    "Next, we implement the max-sum algorithm as described in section 8.4.5 of Bishop."
   ]
  },
  {
   "cell_type": "markdown",
   "metadata": {},
   "source": [
    "### 2.1 Factor to variable messages (10 points)\n",
    "Implement the function `Factor.send_ms_msg` that sends Factor -> Variable messages for the max-sum algorithm. It is analogous to the `Factor.send_sp_msg` function you implemented before."
   ]
  },
  {
   "cell_type": "code",
   "execution_count": 17,
   "metadata": {
    "collapsed": true
   },
   "outputs": [],
   "source": [
    "def factor_send_ms_msg(self, other):\n",
    "    self.logger.info('Sending message to %s', other)\n",
    "    self.check_send_info(other)\n",
    "    \n",
    "    # Compute the message\n",
    "    if len(self.neighbours) == 1:\n",
    "        msg = np.log(self.f)\n",
    "    else:\n",
    "        other_neighbours = [n for n in self.neighbours if n != other]\n",
    "        mus = 0\n",
    "        dims = [n.num_states for n in other_neighbours]\n",
    "        for i, node in enumerate(other_neighbours):\n",
    "            dims_i = dims[:]\n",
    "            dims_i.pop(i)\n",
    "            dims_i.append(1)\n",
    "            mu = np.tile(self.in_msgs[node], dims_i)\n",
    "            mus += mu\n",
    "        other_i = self.neighbours.index(other)\n",
    "        f_axes = filter(lambda i: i != other_i, range(len(self.neighbours)))\n",
    "        msg = np.amax(np.log(self.f) + mus, axis=tuple(f_axes))\n",
    "\n",
    "    # Send message to other\n",
    "    other.receive_msg(self, msg)\n",
    "    for p in self.pending: self.logger.debug('Pending %s', p)\n",
    "    self.pending.discard(other)\n",
    "\n",
    "\n",
    "# Bound function as Factor class method\n",
    "Factor.send_ms_msg = MethodType(factor_send_ms_msg, None, Factor)"
   ]
  },
  {
   "cell_type": "markdown",
   "metadata": {},
   "source": [
    "### 2.2 Variable to factor messages (10 points)\n",
    "Implement the `Variable.send_ms_msg` function that sends Variable -> Factor messages for the max-sum algorithm."
   ]
  },
  {
   "cell_type": "code",
   "execution_count": 18,
   "metadata": {
    "collapsed": false
   },
   "outputs": [],
   "source": [
    "def variable_send_ms_msg(self, other):\n",
    "    self.logger.info('Sending message to %s', other)\n",
    "    \n",
    "    # Compute the message\n",
    "    if len(self.neighbours) == 1 or self.is_observed:\n",
    "        msg = np.log(self.observed_state)\n",
    "    else:\n",
    "        # Check if all information required is present\n",
    "        self.check_send_info(other)\n",
    "        msg = 0\n",
    "        for node in [n for n in self.neighbours if n != other]:\n",
    "            msg += self.in_msgs[node]\n",
    "        \n",
    "    # Send the message\n",
    "    other.receive_msg(self, msg)\n",
    "    for p in self.pending: self.logger.debug('Pending %s', p)\n",
    "    self.pending.discard(other)\n",
    "\n",
    "\n",
    "Variable.send_ms_msg = MethodType(variable_send_ms_msg, None, Variable)"
   ]
  },
  {
   "cell_type": "markdown",
   "metadata": {},
   "source": [
    "### 2.3 Find a MAP state (10 points)\n",
    "\n",
    "Using the same message passing schedule we used for sum-product, implement the max-sum algorithm. For simplicity, we will ignore issues relating to non-unique maxima. So there is no need to implement backtracking; the MAP state is obtained by a per-node maximization (eq. 8.98 in Bishop). Make sure your algorithm works with both latent and observed variables."
   ]
  },
  {
   "cell_type": "code",
   "execution_count": 19,
   "metadata": {
    "collapsed": false
   },
   "outputs": [],
   "source": [
    "def max_sum(node_list):\n",
    "    # Performs a single pass in one direction\n",
    "    def do_pass(n_list):\n",
    "        for i in range(len(n_list)):\n",
    "            node = n_list[i]\n",
    "            root_logger.debug('Pass %d %s', i, node)\n",
    "            pending_nodes = list(node.pending)\n",
    "            for pending in pending_nodes:\n",
    "                node.send_ms_msg(pending)\n",
    "            root_logger.debug('')\n",
    "    \n",
    "    # Forward pass\n",
    "    do_pass(node_list)\n",
    "    # Backward pass\n",
    "    do_pass(list(reversed(node_list)))\n",
    "    \n",
    "    # Return MAP state for each variable\n",
    "    def map_state(variable):\n",
    "        return np.argmax(np.sum(variable.in_msgs.values(), axis=0))\n",
    "    \n",
    "    return {var.name: map_state(var) for var in node_list if isinstance(var, Variable)}"
   ]
  },
  {
   "cell_type": "code",
   "execution_count": 20,
   "metadata": {
    "collapsed": false,
    "scrolled": true
   },
   "outputs": [
    {
     "data": {
      "text/plain": [
       "{'Bronchitis': 0,\n",
       " 'Coughing': 0,\n",
       " 'Fever': 0,\n",
       " 'Influenza': 0,\n",
       " 'Smokes': 0,\n",
       " 'SoreThroat': 0,\n",
       " 'Wheezing': 0}"
      ]
     },
     "execution_count": 20,
     "metadata": {},
     "output_type": "execute_result"
    }
   ],
   "source": [
    "graph = init_graph()\n",
    "max_sum(graph)"
   ]
  },
  {
   "cell_type": "code",
   "execution_count": 21,
   "metadata": {
    "collapsed": false,
    "scrolled": true
   },
   "outputs": [
    {
     "data": {
      "text/plain": [
       "{'Bronchitis': 1,\n",
       " 'Coughing': 1,\n",
       " 'Fever': 1,\n",
       " 'Influenza': 0,\n",
       " 'Smokes': 1,\n",
       " 'SoreThroat': 0,\n",
       " 'Wheezing': 1}"
      ]
     },
     "execution_count": 21,
     "metadata": {},
     "output_type": "execute_result"
    }
   ],
   "source": [
    "graph = init_graph()\n",
    "influenza.set_observed(1)\n",
    "smokes.set_observed(1)\n",
    "\n",
    "max_sum(graph)"
   ]
  },
  {
   "cell_type": "code",
   "execution_count": 22,
   "metadata": {
    "collapsed": false
   },
   "outputs": [
    {
     "data": {
      "text/plain": [
       "{'Bronchitis': 1,\n",
       " 'Coughing': 0,\n",
       " 'Fever': 1,\n",
       " 'Influenza': 1,\n",
       " 'Smokes': 1,\n",
       " 'SoreThroat': 0,\n",
       " 'Wheezing': 1}"
      ]
     },
     "execution_count": 22,
     "metadata": {},
     "output_type": "execute_result"
    }
   ],
   "source": [
    "graph = init_graph()\n",
    "fever.set_observed(1)\n",
    "coughing.set_observed(1)\n",
    "sore_throat.set_observed(1)\n",
    "wheezing.set_observed(0)\n",
    "\n",
    "max_sum(graph)"
   ]
  },
  {
   "cell_type": "markdown",
   "metadata": {},
   "source": [
    "## Part 3: Image Denoising and Loopy BP\n",
    "\n",
    "Next, we will use a loopy version of max-sum to perform denoising on a binary image. The model itself is discussed in Bishop 8.3.3, but we will use loopy max-sum instead of Iterative Conditional Modes as Bishop does.\n",
    "\n",
    "The following code creates some toy data. `im` is a quite large binary image, `test_im` is a smaller synthetic binary image. Noisy versions are also provided."
   ]
  },
  {
   "cell_type": "code",
   "execution_count": 23,
   "metadata": {
    "collapsed": false
   },
   "outputs": [
    {
     "data": {
      "text/plain": [
       "<matplotlib.image.AxesImage at 0x7f3ad7a71ad0>"
      ]
     },
     "execution_count": 23,
     "metadata": {},
     "output_type": "execute_result"
    },
    {
     "data": {
      "image/png": "[encoded data removed]",
      "text/plain": [
       "<matplotlib.figure.Figure at 0x7f3b20e15f50>"
      ]
     },
     "metadata": {},
     "output_type": "display_data"
    },
    {
     "data": {
      "image/png": "[encoded data removed]",
      "text/plain": [
       "<matplotlib.figure.Figure at 0x7f3ad7be55d0>"
      ]
     },
     "metadata": {},
     "output_type": "display_data"
    },
    {
     "data": {
      "image/png": "[encoded data removed]",
      "text/plain": [
       "<matplotlib.figure.Figure at 0x7f3ad7af9590>"
      ]
     },
     "metadata": {},
     "output_type": "display_data"
    },
    {
     "data": {
      "image/png": "[encoded data removed]",
      "text/plain": [
       "<matplotlib.figure.Figure at 0x7f3ad7a8a650>"
      ]
     },
     "metadata": {},
     "output_type": "display_data"
    }
   ],
   "source": [
    "from pylab import imread, gray\n",
    "# Load the image and binarize\n",
    "im = np.mean(imread('dalmatian1.png'), axis=2) > 0.5\n",
    "imshow(im)\n",
    "gray()\n",
    "\n",
    "# Add some noise\n",
    "noise = np.random.rand(*im.shape) > 0.9\n",
    "noise_im = np.logical_xor(noise, im)\n",
    "figure()\n",
    "imshow(noise_im)\n",
    "\n",
    "test_im = np.zeros((10,10))\n",
    "#test_im[5:8, 3:8] = 1.0\n",
    "#test_im[5,5] = 1.0\n",
    "figure()\n",
    "imshow(test_im)\n",
    "\n",
    "# Add some noise\n",
    "noise = np.random.rand(*test_im.shape) > 0.9\n",
    "noise_test_im = np.logical_xor(noise, test_im)\n",
    "figure()\n",
    "imshow(noise_test_im)"
   ]
  },
  {
   "cell_type": "markdown",
   "metadata": {},
   "source": [
    "### 3.1 Construct factor graph (10 points)\n",
    "Convert the Markov Random Field (Bishop, fig. 8.31) to a factor graph and instantiate it."
   ]
  },
  {
   "cell_type": "code",
   "execution_count": null,
   "metadata": {
    "collapsed": true
   },
   "outputs": [],
   "source": [
    "def init_denoising_graph(im, noise_prior=.5):\n",
    "    height = im.shape[0]\n",
    "    width = im.shape[1]\n",
    "    noise_prior_f = np.array([\n",
    "            [1. - noise_prior, noise_prior],\n",
    "            [1. - noise_prior, noise_prior]])\n",
    "    \n",
    "    # Create variables for noisy and denoised pixels\n",
    "    # and factors for noise-denoise variables\n",
    "    noisy_vars = []\n",
    "    denoised_vars = []\n",
    "    nd_factors = set([])\n",
    "    for h in range(height):\n",
    "        noisy_row = []\n",
    "        denoised_row = []\n",
    "        for w in range(width):\n",
    "            noisy_px = Variable('y-{}-{}'.format(h, w), 2)\n",
    "            # Set observed state to noisy pixel value\n",
    "            noisy_px.set_observed(im[h,w])\n",
    "            noisy_row.append(noisy_px)\n",
    "            denoised_px = Variable('x-{}-{}'.format(h, w), 2)\n",
    "            denoised_row.append(denoised_px)\n",
    "            # Create factor node\n",
    "            neighbours = [noisy_px, denoised_px]\n",
    "            factor = Factor('ndf-{}-{}'.format(h, w), noise_prior_f, neighbours)\n",
    "            nd_factors.add(f)\n",
    "        noisy_vars.append(noisy_row)\n",
    "        denoised_vars.append(denoised_row)\n",
    "    \n",
    "    \n",
    "    "
   ]
  },
  {
   "cell_type": "markdown",
   "metadata": {},
   "source": [
    "### 3.2 Loopy max-sum (10 points)\n",
    "Implement the loopy max-sum algorithm, by passing messages from randomly chosen nodes iteratively until no more pending messages are created or a maximum number of iterations is reached. \n",
    "\n",
    "Think of a good way to initialize the messages in the graph."
   ]
  }
 ],
 "metadata": {
  "kernelspec": {
   "display_name": "Python 2",
   "language": "python",
   "name": "python2"
  },
  "language_info": {
   "codemirror_mode": {
    "name": "ipython",
    "version": 2
   },
   "file_extension": ".py",
   "mimetype": "text/x-python",
   "name": "python",
   "nbconvert_exporter": "python",
   "pygments_lexer": "ipython2",
   "version": "2.7.6"
  }
 },
 "nbformat": 4,
 "nbformat_minor": 0
}
