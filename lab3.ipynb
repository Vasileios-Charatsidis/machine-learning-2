{
 "cells": [
  {
   "cell_type": "markdown",
   "metadata": {},
   "source": [
    "# Lab 3: Bayesian PCA\n",
    "\n",
    "### Machine Learning II, 2016\n",
    "\n",
    "* The lab exercises should be made in groups of two people.\n",
    "* The deadline for part 1 is Sunday, 15 May, 23:59.\n",
    "* Assignment should be sent to taco.cohen at gmail dot com. The subject line of your email should be \"[MLII2016] lab3part1_lastname1\\_lastname2\". \n",
    "* Put your and your teammates' names in the body of the email\n",
    "* Attach the .IPYNB (IPython Notebook) file containing your code and answers. Naming of the file follows the same rule as the subject line. For example, if the subject line is \"[MLII2016] lab01\\_Kingma\\_Hu\", the attached file should be \"lab3part1\\_Kingma\\_Hu.ipynb\". Only use underscores (\"\\_\") to connect names, otherwise the files cannot be parsed.\n",
    "\n",
    "Notes on implementation:\n",
    "\n",
    "* You should write your code and answers in an IPython Notebook: http://ipython.org/notebook.html. If you have problems, please contact us.\n",
    "* Among the first lines of your notebook should be \"%pylab inline\". This imports all required modules, and your plots will appear inline.\n",
    "* NOTE: test your code and make sure we can run your notebook / scripts!\n",
    "* NOTE: please write your answers directly below the question in the notebook."
   ]
  },
  {
   "cell_type": "markdown",
   "metadata": {},
   "source": [
    "### Introduction\n",
    "\n",
    "In this lab assignment, we will implement a variational algorithm for Bayesian PCA. Unlike regular PCA based on maximization of retained variance or minimization of projection error (see Bishop, 12.1.1 and 12.1.2), probabilistic PCA defines a proper density model over observed and latent variables. We will work with a fully Bayesian model this time, which is to say that we will put priors on our parameters and will be interested in learning the posterior over those parameters. Bayesian methods are very elegant, but require a shift in mindset: we are no longer looking for a point estimate of the parameters (as in maximum likelihood or MAP), but for a full posterior distribution over the space of parameters.\n",
    "\n",
    "The integrals involved in a Bayesian analysis are usually analytically intractable, so that we must resort to approximations. In this lab assignment, we will implement the variational method described in Bishop99. Chapters 10 and 12 of the PRML book contain additional material that may be useful when doing this exercise.\n",
    "\n",
    "* [Bishop99] Variational Principal Components, C. Bishop, ICANN 1999 - http://research.microsoft.com/pubs/67241/bishop-vpca-icann-99.pdf\n",
    "\n",
    "Below, you will find some code to get you started."
   ]
  },
  {
   "cell_type": "code",
   "execution_count": 1,
   "metadata": {
    "collapsed": false
   },
   "outputs": [
    {
     "name": "stdout",
     "output_type": "stream",
     "text": [
      "Populating the interactive namespace from numpy and matplotlib\n"
     ]
    }
   ],
   "source": [
    "%pylab inline\n",
    "import scipy.special as special\n",
    "\n",
    "class BayesianPCA(object):\n",
    "    \n",
    "    def __init__(self, d, N, a_alpha=10e-3, b_alpha=10e-3, a_tau=10e-3, b_tau=10e-3, beta=10e-3):\n",
    "        \"\"\"\n",
    "        \"\"\"\n",
    "        self.d = d # number of dimensions\n",
    "        self.N = N # number of data points\n",
    "        self.q = d\n",
    "        \n",
    "        # Hyperparameters\n",
    "        self.a_alpha = a_alpha\n",
    "        self.b_alpha = b_alpha\n",
    "        self.a_tau = a_tau\n",
    "        self.b_tau = b_tau\n",
    "        self.beta = beta\n",
    "\n",
    "        # Variational parameters\n",
    "        self.means_z = np.random.randn(d, N) # called x in bishop99\n",
    "        self.sigma_z = np.random.randn(d, d)\n",
    "        self.mean_mu = np.random.randn(d, 1)\n",
    "        self.sigma_mu = np.random.randn(d, d)\n",
    "        self.means_w = np.random.randn(d, d)\n",
    "        self.sigma_w = np.random.randn(d, d)\n",
    "        self.a_alpha_tilde = np.abs(np.random.randn(1))\n",
    "        self.bs_alpha_tilde = np.abs(np.random.randn(d, 1))\n",
    "        self.a_tau_tilde = np.abs(np.random.randn(1))\n",
    "        self.b_tau_tilde = np.abs(np.random.randn(1))\n",
    "    \n",
    "    def __update_z(self, X):\n",
    "        pass\n",
    "    \n",
    "    def __update_mu(self):\n",
    "        pass\n",
    "    \n",
    "    def __update_w(self, X):\n",
    "        pass\n",
    "    \n",
    "    def __update_alpha(self):\n",
    "        pass\n",
    "\n",
    "    def __update_tau(self, X):\n",
    "        pass\n",
    "\n",
    "    def L(self, X):\n",
    "        L = 0.0\n",
    "        return L\n",
    "    \n",
    "    def fit(self, X):\n",
    "        pass"
   ]
  },
  {
   "cell_type": "markdown",
   "metadata": {},
   "source": [
    "---\n",
    "\n",
    "$\\newcommand{\\vt}[1]{\\mathbf{#1}}$"
   ]
  },
  {
   "cell_type": "markdown",
   "metadata": {},
   "source": [
    "### 1. The Q-distribution (5 points)\n",
    "\n",
    "In variational Bayes, we introduce a distribution $Q(\\Theta)$ over parameters / latent variables in order to make inference tractable. We can think of $Q$ as being an approximation of a certain distribution. What function does $Q$ approximate, $p(D|\\Theta)$, $p(\\Theta|D)$, $p(D, \\Theta)$, $p(\\Theta)$, or $p(D)$, and how do you see that from the equation $\\ln p(D) = \\mathcal{L}(Q) + \\mathrm{KL}(Q||P)$? (Hint: see eq. 11 in Bishop99)"
   ]
  },
  {
   "cell_type": "markdown",
   "metadata": {},
   "source": [
    "#### Answer\n",
    "From eq. 11 in Bishop99 we see that $Q$ is an approximation of $p(\\Theta|D)$. If the function $Q(\\Theta)$ is equal to $p(\\Theta|D)$, the Kullback-Leibler divergence becomes zero, and so the log-marginal $\\ln p(D)$ can be correctly estimated by $\\mathcal{L}(Q)$. So the better $Q$ approximates the true posterior, the better the estimation given by $\\mathcal{L}(Q)$ will be.\n",
    "\n",
    "---"
   ]
  },
  {
   "cell_type": "markdown",
   "metadata": {},
   "source": [
    "### 2. The mean-field approximation (15 points)\n",
    "\n",
    "Equation 13 from [Bishop99] is a very powerful result: assuming only that $Q(\\Theta)$ factorizes in a certain way (no assumptions on the functional form of the factors $Q_i$!), we get a set of coupled equations for the $Q_i$.\n",
    "\n",
    "However, the expression given in eq. 13 for Q_i contains a small mistake. Starting with the expression for the lower bound $\\mathcal{L}(Q)$, derive the correct expression (and include your derivation). You can proceed as follows: first, substitute the factorization of $Q$ (eq. 12) into the definition of $\\mathcal{L}(Q)$ and separate $\\mathcal{L}(Q)$ into $Q_i$-dependent and $Q_i$-independent terms. At this point, you should be able to spot the expectations $\\langle\\cdot\\rangle_{k \\neq i}$ over the other $Q$-distributions that appear in Bishop's solution (eq. 13). Now, keeping all $Q_k, k \\neq i$ fixed, maximize the expression with respect to $Q_i$. You should be able to spot the form of the optimal $\\ln Q_i$, from which $Q_i$ can easily be obtained."
   ]
  },
  {
   "cell_type": "markdown",
   "metadata": {},
   "source": [
    "#### Answer\n",
    "\\begin{align}\n",
    "\\mathcal{L}(Q)\n",
    "&= \\int Q(\\Theta) \\ln \\frac{P(D,\\Theta)}{Q(\\Theta)} \\mathrm{d}\\Theta \\\\\n",
    "&= \\int \\prod_{k}[Q_k(\\theta_k)] \\left\\{ \\ln[P(D,\\Theta)] - \\sum_{j}[Q_j(\\theta_j)] \\right\\} \\mathrm{d}\\Theta \\\\\n",
    "&= \\int Q_j(\\theta_j) \\left\\{ \\int \\ln[P(D,\\Theta)] \\prod_{i \\neq j}  Q_i(\\theta_i) d\\theta_i \\right\\} \\mathrm{d}\\theta_j - \\int Q_j(\\theta_j) \\ln[Q_j(\\theta_j)] \\mathrm{d}\\theta_j + \\text{const} \\\\\n",
    "&= \\int Q_j(\\theta_j)  \\ln[\\tilde{p}(D,\\Theta_j)] \\mathrm{d}\\theta_j - \\int Q_j(\\theta_j) \\ln[Q_j(\\theta_j)] \\mathrm{d}\\theta_j + \\text{const}\n",
    "\\end{align}\n",
    "where:\n",
    "$$ \\ln[\\tilde{p}(D,\\Theta_i)] = \\langle \\ln[P(D,\\Theta)] \\rangle_{k\\neq i}  + \\text{const}$$\n",
    "and \n",
    "$$  \\langle \\ln[P(D,\\Theta)] \\rangle_{k\\neq i} = \\int \\ln[P(D,\\Theta)] \\prod_{i \\neq j}  Q_i(\\theta_i) \\mathrm{d}\\theta_i $$\n",
    "\n",
    "We can see that the last result of the $\\mathcal{L}(Q)$ calculation is the negative KL divergence between $Q_j(\\theta_j)$ and $\\tilde{p}(D,\\Theta_i)$. In order to maximize $\\mathcal{L}(Q)$ we can minimize that KL divergence, which has optimum when $Q_j(\\theta_j) = \\tilde{p}(D,\\Theta_i)$. This way we get a general expression for the update of $Q_j(\\theta_j)$ which when normalised takes the form:\n",
    "$$Q_i(\\theta_i) = \\frac{\\exp \\big\\{ \\langle \\ln[P(D,\\Theta)] \\rangle_{k\\neq i} \\big\\}}{ \\int \\exp \\big\\{ \\langle \\ln[P(D,\\Theta)] \\rangle_{k\\neq i} \\big\\} \\mathrm{d}\\theta_i}$$\n",
    "\n",
    "---"
   ]
  },
  {
   "cell_type": "markdown",
   "metadata": {},
   "source": [
    "### 3. The log-probability (10 points)\n",
    "\n",
    "Write down the log-prob of data and parameters, $\\ln p(\\mathbf{X}, \\mathbf{Z}, \\mathbf{W}, \\mathbf{\\alpha}, \\tau, \\mathbf{\\mu})$, in full detail (where $\\mathbf{X}$ are observed, $\\mathbf{Z}$ is latent; this is different from [Bishop99] who uses $\\mathbf{T}$ and $\\mathbf{X}$ respectively, but $\\mathbf{X}$ and $\\mathbf{Z}$ are consistent with the PRML book and are more common nowadays). Could we use the log-prob to assess the convergence of the variational Bayesian PCA algorithm? If yes, how? If no, why not?"
   ]
  },
  {
   "cell_type": "markdown",
   "metadata": {},
   "source": [
    "#### Answer\n",
    "\\begin{align}\n",
    "    \\ln p(\\vt{X}, \\vt{Z}, \\vt{W}, \\alpha, \\tau, \\mu)\n",
    "    &=  p(\\alpha) p(\\vt{W}|\\alpha) p(\\tau) p(\\mu)\n",
    "        p(\\vt{X}|\\vt{Z},\\vt{W}, \\mu, \\tau) p(\\vt{Z}) \\\\\n",
    "    &= \\ln \\prod_{i=1}^q \\Gamma (\\alpha_i|a_\\alpha, b_\\alpha)\n",
    "        p(\\vt{W}|\\alpha) \\Gamma (\\tau|c_\\tau, d_\\tau)\n",
    "        \\mathcal{N}(\\mu|\\vt{0}, \\beta^{-1}\\vt{I})\n",
    "        p(\\vt{X}|\\vt{Z},\\vt{W}, \\mu, \\tau) p(\\vt{Z}) \\\\\n",
    "    &= \\sum_{i=1}^q \\ln \\Gamma (\\alpha_i|a_\\alpha, b_\\alpha) +\n",
    "        \\ln p(\\vt{W}|\\alpha) + \\ln \\Gamma (\\tau|c_\\tau,  d_\\tau) +\n",
    "        \\ln \\mathcal{N}(\\mu|\\vt{0}, \\beta^{-1}\\vt{I}) +\n",
    "        \\ln p(\\vt{X}|\\vt{Z},\\vt{W}, \\mu, \\tau) + \\ln p(\\vt{Z}) \\\\\n",
    "    &= \\sum_{i=1}^q \\ln \\Gamma (\\alpha_i|a_\\alpha, b_\\alpha) +\n",
    "        \\ln p(\\vt{W}|\\alpha) + \\ln \\Gamma (\\tau|c_\\tau,  d_\\tau) +\n",
    "        \\ln \\mathcal{N}(\\mu|\\vt{0}, \\beta^{-1}\\vt{I}) +\n",
    "        \\\\ & \\quad\n",
    "        + \\sum_{n=1}^N\\ln p(x_n|z_n,\\vt{W}, \\mu, \\tau) + \\sum_{n=1}^N\\ln p(z_n) \\\\\n",
    "    &= \\sum_{i=1}^q \\ln \\Gamma (\\alpha_i|a_\\alpha, b_\\alpha) +\n",
    "        \\ln p(\\vt{W}|\\alpha) + \\ln \\Gamma (\\tau|c_\\tau,  d_\\tau) +\n",
    "        \\ln \\mathcal{N}(\\mu|\\vt{0}, \\beta^{-1}\\vt{I}) +\n",
    "        \\\\ & \\quad\n",
    "        + \\sum_{n=1}^N\\ln \\mathcal{N}(x_n|\\vt{W}z_n + \\mu, \\tau^{-1}\\vt{I}_d) + \n",
    "        \\sum_{n=1}^N\\ln \\mathcal{N}(z_n|\\vt{0}, \\vt{I}_q) \\\\\n",
    "    &= \\sum_{i=1}^q \\left[ a_{\\alpha}\\ln b_{\\alpha} - \\ln\\Gamma(a_{\\alpha}) + \n",
    "        (a_{\\alpha}-1)\\ln\\alpha_i-b_{\\alpha}\\alpha_i \\right] +\n",
    "        \\sum_{i=1}^q \\left[ \\frac{d}{2}(\\ln\\alpha_i-\\ln2\\pi) - \\frac{1}{2}\\alpha_i||\\vt{w}_i||^2 \\right] +\n",
    "        \\\\ & \\quad\n",
    "        +c_\\tau\\ln d_\\tau - \\ln\\Gamma(c_\\tau) - d_\\tau\\tau - \\frac{d}{2}\\ln2\\pi\\beta^{-1} -\n",
    "        \\frac{1}{2\\beta^{-1}}\\mu^T\\vt{I}\\mu +\n",
    "        \\\\ & \\quad\n",
    "        +\\sum_{n=1}^N \\left[ -\\frac{d}{2}\\ln2\\pi\\tau^{-1} -\\frac{1}{2\\tau^{-1}}\n",
    "            \\big( x_n - \\vt{W}z_n - \\mu \\big)^T\\vt{I}\\big( x_n - \\vt{W}z_n - \\mu \\big)\n",
    "        \\right] +\n",
    "        \\sum_{n=1}^N \\left[ -\\frac{d}{2}\\ln 2\\pi -\\frac{1}{2}z_n^T\\vt{I}z_n \\right] \\\\\n",
    "    &= q\\left[a_\\alpha\\ln b_\\alpha - \\ln\\Gamma(a_\\alpha)\\right] +\n",
    "        (a_\\alpha-1+\\frac{d}{2})\\sum_{i=1}^q\\ln\\alpha_i - b_\\alpha\\sum_{i=1}^q\\alpha_i -\n",
    "        \\left( \\frac{qd}{2}+\\frac{qN}{2} \\right)\\ln2\\pi - \n",
    "        \\\\ & \\quad\n",
    "        - \\frac{1}{2}\\sum_{i=1}^q\\alpha_i||\\vt{w}_i||^2 +\n",
    "        c_\\tau\\ln d_\\tau - \\ln\\Gamma(c_\\tau) - d_\\tau\\tau - \\frac{d}{2}\\ln2\\pi\\beta^{-1} -\n",
    "        \\frac{1}{2\\beta^{-1}}\\mu^T\\vt{I}\\mu - \\frac{dN}{2}\\ln2\\pi\\tau^{-1} -\n",
    "        \\\\ & \\quad\n",
    "        - \\frac{1}{2\\tau^{-1}}\\sum_{n=1}^N\\big(x_n-\\vt{W}z_n-\\mu\\big)^T\\vt{I}\\big(x_n-\\vt{W}z_n-\\mu\\big) -\n",
    "        \\frac{1}{2}\\sum_{n=1}^N z_n^T\\vt{I}z_n\n",
    "\\end{align}\n",
    "\n",
    "The log-prob of data and parameters is used to compute the lower bound $\\mathcal{L}(Q)$, which, as also stated in Bishop99, can be used to monitor the convergence of the variational optimization algorithm.\n",
    "Moreover, at the end of optimization, the partial derivatives of the lower bound with respect to the individual parameters of the $Q$ distribution can be calculated numerically in order to see if they are indeed close to zero.\n",
    "\n",
    "---"
   ]
  },
  {
   "cell_type": "markdown",
   "metadata": {},
   "source": [
    "### 4. The lower bound $\\mathcal{L}(Q)$ (25 points)\n",
    "\n",
    "Derive an expression for the lower bound $\\mathcal{L}(Q)$ of the log-prob $\\ln p(X)$ for Bayesian PCA, making use of the factorization (eq. 12) and the form of the Q-distributions (eq. 16-20) as listed in [Bishop99]. Show your steps. Implement this function.\n",
    "\n",
    "The following result may be useful:\n",
    "\n",
    "For $x \\sim \\Gamma(a,b)$, we have $\\langle \\ln x\\rangle = \\ln b + \\psi(a)$, where $\\psi(a) = \\frac{\\Gamma'(a)}{\\Gamma(a)}$ is the digamma function (which is implemented in numpy.special)."
   ]
  },
  {
   "cell_type": "markdown",
   "metadata": {},
   "source": [
    "#### Answer\n",
    "\n",
    "\n",
    "---"
   ]
  },
  {
   "cell_type": "code",
   "execution_count": 2,
   "metadata": {
    "collapsed": true
   },
   "outputs": [],
   "source": [
    "from types import MethodType\n",
    "\n",
    "\n",
    "def L(self, X):\n",
    "    L = 0\n",
    "    for n in xrange(self.N):\n",
    "        L += X[:,n].T.dot(X[:,n])\n",
    "        L += X[:,n].T.dot(self.mean_mu)\n",
    "        #L += dot(dot(self.means_w.T[n].T, self.means_w[:,n]), dot(self.means_z[:,n].T, self.means_z[:,n]))\n",
    "        L += self.mean_mu.T.dot(X[:,n].T)\n",
    "        L -= self.mean_mu.T.dot(self.means_w).dot(self.means_z[:,n])\n",
    "        L += np.trace(self.sigma_mu) + self.mean_mu.T.dot(self.mean_mu)[0]\n",
    "        \n",
    "    L += - self.N / 2 * np.trace(self.sigma_z)\n",
    "    for n in xrange(self.N):\n",
    "        L += - 1/2 * self.means_z.T[n].T.dot(self.means_z.T[n])\n",
    "        \n",
    "    for i in xrange(self.d):\n",
    "        L+= -self.d /2 * (special.digamma(self.a_alpha_tilde) - log(self.bs_alpha_tilde[i][0]) ) - \\\n",
    "            1/2 * (np.trace(self.sigma_w) + self.means_w.T[i].T.dot(self.means_w.T[i]))\n",
    "    \n",
    "    for i in xrange(self.d):\n",
    "        L += (self.a_alpha - 1) * ( -log(self.bs_alpha_tilde[i][0]) + special.digamma(self.a_alpha_tilde)) - \\\n",
    "            self.b_alpha * (self.a_alpha_tilde / self.bs_alpha_tilde[i][0])\n",
    "            \n",
    "    L += - self.beta/2*(np.trace(self.sigma_mu) + self.mean_mu.T.dot(self.mean_mu)[0])\n",
    "    \n",
    "    L +=  -log(self.b_tau_tilde[0]) + special.digamma(self.a_tau_tilde) - (self.a_tau_tilde / self.b_tau_tilde[0])\n",
    "    \n",
    "    L += self.N /2 * log(linalg.det(self.sigma_z))\n",
    "    \n",
    "    L += (0.5)*log(linalg.det(self.sigma_mu))\n",
    "\n",
    "    L += self.d /2 *log(linalg.det(self.sigma_w))\n",
    "    \n",
    "    L += self.d * (self.a_alpha_tilde + log(special.gammaln(self.a_alpha_tilde)) + \\\n",
    "                   (1-self.a_alpha_tilde)*special.digamma(self.a_alpha_tilde)) \n",
    "    for i in xrange(self.d):\n",
    "        L += -log(self.bs_alpha_tilde[i][0])\n",
    "        \n",
    "    L += self.a_tau_tilde - log(self.b_tau_tilde[0]) + (1-self.a_tau_tilde) * special.digamma(self.a_tau_tilde)\n",
    "    \n",
    "    return L\n",
    "\n",
    "\n",
    "BayesianPCA.L = MethodType(L, None, BayesianPCA)"
   ]
  },
  {
   "cell_type": "markdown",
   "metadata": {},
   "source": [
    "---"
   ]
  },
  {
   "cell_type": "markdown",
   "metadata": {},
   "source": [
    "### 5. Optimize variational parameters (50 points)\n",
    "Implement the update equations for the Q-distributions, in the __update_XXX methods. Each update function should re-estimate the variational parameters of the Q-distribution corresponding to one group of variables (i.e. either $Z$, $\\mu$, $W$, $\\alpha$ or $\\tau$).\n",
    "\n",
    "Hint: if you run into numerical instabilities resulting from the gamma function use the gammaln function from numpy.special."
   ]
  },
  {
   "cell_type": "code",
   "execution_count": 3,
   "metadata": {
    "collapsed": true
   },
   "outputs": [],
   "source": [
    "def update_z(self, X):\n",
    "    E_tau = self.a_tau_tilde / self.b_tau_tilde\n",
    "    E_W = self.means_w\n",
    "    E_mu = self.mean_mu\n",
    "    for n in xrange(self.N):\n",
    "        t_n = X.T[n].reshape((self.d,1)) \n",
    "        self.means_z.T[n] = reshape(E_tau * self.sigma_z.dot(E_W.T).dot(t_n - E_mu), self.q)\n",
    "    self.sigma_z = np.linalg.inv(np.identity(self.q) + E_tau*(E_W.T.dot(E_W)))\n",
    "\n",
    "BayesianPCA.__update_z = MethodType(update_z, None, BayesianPCA)"
   ]
  },
  {
   "cell_type": "code",
   "execution_count": 4,
   "metadata": {
    "collapsed": true
   },
   "outputs": [],
   "source": [
    "def update_mu(self, X):\n",
    "    E_tau = self.a_tau_tilde / self.b_tau_tilde\n",
    "    E_W = self.means_w\n",
    "    S = 0\n",
    "    for n in range(0,self.N):\n",
    "        t_n = X.T[n].reshape((self.d,1)) \n",
    "        x_n = self.means_z.T[n].reshape((self.q,1)) \n",
    "        S += t_n - E_W.dot(x_n)\n",
    "    self.mean_mu = E_tau*self.sigma_mu.dot(S)\n",
    "    self.sigma_mu = np.eye(self.d) / (self.beta + self.N*(self.a_tau_tilde/self.b_tau_tilde))\n",
    "\n",
    "BayesianPCA.__update_mu = MethodType(update_mu, None, BayesianPCA)"
   ]
  },
  {
   "cell_type": "code",
   "execution_count": 5,
   "metadata": {
    "collapsed": true
   },
   "outputs": [],
   "source": [
    "def update_w(self, X):\n",
    "    S = 0\n",
    "    for n in xrange(self.N):\n",
    "        x_n = self.means_z.T[n].reshape((self.q,1)) \n",
    "        S += self.sigma_z + x_n.dot(x_n.T)\n",
    "    self.sigma_w = np.linalg.inv(diagflat(self.a_alpha_tilde / self.bs_alpha_tilde) + \\\n",
    "                                 (self.a_tau_tilde / self.b_tau_tilde) * (S))\n",
    "\n",
    "\n",
    "    E_tau = self.a_tau_tilde / self.b_tau_tilde\n",
    "    S = 0\n",
    "    for k in xrange(self.d):\n",
    "        mu_k = self.mean_mu[k]\n",
    "        for n in xrange(self.N):\n",
    "            t_n_k = X.T[n][k]\n",
    "            x_n = self.means_z.T[n].reshape((self.q,1))\n",
    "            S += x_n * (t_n_k - mu_k)\n",
    "        self.means_w[k] = np.reshape(E_tau * self.sigma_w.dot(S), self.q)\n",
    "\n",
    "BayesianPCA.__update_w = MethodType(update_w, None, BayesianPCA)"
   ]
  },
  {
   "cell_type": "code",
   "execution_count": 6,
   "metadata": {
    "collapsed": true
   },
   "outputs": [],
   "source": [
    "def update_alpha(self):\n",
    "    self.a_alpha_tilde = self.a_alpha + self.d/2\n",
    "    for i in xrange(self.q):\n",
    "        self.bs_alpha_tilde[i] = self.b_alpha + (np.trace(np.cov(self.means_w)) + \\\n",
    "                                                 self.means_w.T[i].T.dot(self.means_w.T[i])) / 2\n",
    "\n",
    "BayesianPCA.__update_alpha = MethodType(update_alpha, None, BayesianPCA)"
   ]
  },
  {
   "cell_type": "code",
   "execution_count": 7,
   "metadata": {
    "collapsed": true
   },
   "outputs": [],
   "source": [
    "def update_tau(self, X):\n",
    "    self.a_tau_tilde = self.a_tau + self.N*self.d / 2\n",
    "    A = 0\n",
    "    E_W = self.means_w\n",
    "    for i in xrange(self.N):\n",
    "        t_n = X.T[i].reshape((self.d,1))\n",
    "        x_n = self.means_z.T[i].reshape((self.q,1))\n",
    "        A += t_n.T.dot(t_n) + np.trace(self.sigma_mu) + self.mean_mu.T.dot(self.mean_mu)\n",
    "        A += np.trace(E_W.T.dot(E_W).dot(self.sigma_z + x_n.dot(x_n.T)))\n",
    "        A += 2 * self.mean_mu.T.dot(self.means_w).dot(x_n)\n",
    "        A += -2 * t_n.T.dot(self.means_w).dot(x_n) - 2 * t_n.T.dot(self.mean_mu)\n",
    "    self.b_tau_tilde = self.b_tau + .5 * A\n",
    "\n",
    "BayesianPCA.__update_tau = MethodType(update_tau, None, BayesianPCA)"
   ]
  },
  {
   "cell_type": "markdown",
   "metadata": {},
   "source": [
    "### 6. Learning algorithm (10 points)\n",
    "Implement the learning algorithm described in [Bishop99], i.e. iteratively optimize each of the Q-distributions holding the others fixed.\n",
    "\n",
    "What would be a good way to track convergence of the algorithm? Implement your suggestion.\n",
    "\n",
    "Test the algorithm on some test data drawn from a Gaussian with different variances in orthogonal directions. "
   ]
  },
  {
   "cell_type": "code",
   "execution_count": 20,
   "metadata": {
    "collapsed": true
   },
   "outputs": [],
   "source": [
    "def fit2(self, X , iterations=1000):\n",
    "    for i in xrange(iterations):\n",
    "        self.__update_z(X)\n",
    "        self.__update_mu(X)\n",
    "        self.__update_w(X)\n",
    "        self.__update_alpha()\n",
    "        self.__update_tau(X)\n",
    "\n",
    "        if i % (iterations/10) == 0:\n",
    "            print \"------------------------------------\"\n",
    "            print \"Iteration : \" , i\n",
    "            print \"Lower Bound Value : \" , self.L(X)\n",
    "            print \"------------------------------------\"\n",
    "            \n",
    "def fit(self, X,iterations = 1000, threshold = 1):\n",
    "    self.__update_tau(X)\n",
    "    L_previous = -np.inf\n",
    "    L_new = -np.inf\n",
    "    i = 0\n",
    "    for i in range(iterations):\n",
    "        self.__update_tau(X)\n",
    "        self.__update_mu(X)\n",
    "        self.__update_alpha()            \n",
    "        self.__update_w(X)\n",
    "        self.__update_z(X)  \n",
    "        if i % 100 == 0:\n",
    "            print \"Iterations: \" , i\n",
    "            print \"Lower Bound Value : \" , self.L(X)\n",
    "        i += 1\n",
    "        L_previous = L_new\n",
    "        L_new = self.L(X)\n",
    "        if abs(L_new - L_previous) < threshold:\n",
    "            print 'Break at ', i\n",
    "            break\n",
    "            \n",
    "            \n",
    "BayesianPCA.fit = MethodType(fit, None, BayesianPCA)\n",
    "BayesianPCA.fit2 = MethodType(fit2, None, BayesianPCA)"
   ]
  },
  {
   "cell_type": "code",
   "execution_count": 9,
   "metadata": {
    "collapsed": true
   },
   "outputs": [],
   "source": [
    "##The following is the implemetation we found for viewing the hinton diagram of the resulting W matrix.\n",
    "import pylab as pl\n",
    "\n",
    "def _blob(x,y,area,colour):\n",
    "    \"\"\"\n",
    "    Source: http://wiki.scipy.org/Cookbook/Matplotlib/HintonDiagrams\n",
    "    Draws a square-shaped blob with the given area (< 1) at\n",
    "    the given coordinates.\n",
    "    \"\"\"\n",
    "    hs = np.sqrt(area) / 2\n",
    "    xcorners = np.array([x - hs, x + hs, x + hs, x - hs])\n",
    "    ycorners = np.array([y - hs, y - hs, y + hs, y + hs])\n",
    "    pl.fill(xcorners, ycorners, colour, edgecolor=colour)\n",
    "    \n",
    "def hinton(W, maxWeight=None):\n",
    "    \"\"\"\n",
    "    Source: http://wiki.scipy.org/Cookbook/Matplotlib/HintonDiagrams\n",
    "    Draws a Hinton diagram for visualizing a weight matrix.\n",
    "    Temporarily disables matplotlib interactive mode if it is on,\n",
    "    otherwise this takes forever.\n",
    "    \"\"\"\n",
    "    reenable = False\n",
    "    if pl.isinteractive():\n",
    "        pl.ioff()\n",
    "    pl.clf()\n",
    "    height, width = W.shape\n",
    "    if not maxWeight:\n",
    "        maxWeight = 2**np.ceil(np.log(np.max(np.abs(W)))/np.log(2))\n",
    "\n",
    "    pl.fill(np.array([0,width,width,0]),np.array([0,0,height,height]),'gray')\n",
    "    pl.axis('off')\n",
    "    pl.axis('equal')\n",
    "    for x in xrange(width):\n",
    "        for y in xrange(height):\n",
    "            _x = x+1\n",
    "            _y = y+1\n",
    "            w = W[y,x]\n",
    "            if w > 0:\n",
    "                _blob(_x - 0.5, height - _y + 0.5, min(1,w/maxWeight),'white')\n",
    "            elif w < 0:\n",
    "                _blob(_x - 0.5, height - _y + 0.5, min(1,-w/maxWeight),'black')\n",
    "    if reenable:\n",
    "        pl.ion()\n",
    "    pl.show()"
   ]
  },
  {
   "cell_type": "code",
   "execution_count": 26,
   "metadata": {
    "collapsed": false,
    "scrolled": true
   },
   "outputs": [
    {
     "name": "stdout",
     "output_type": "stream",
     "text": [
      "Iterations:  0\n",
      "Lower Bound Value :  [-5286550.48311734]\n",
      "Break at  13\n"
     ]
    },
    {
     "data": {
      "image/png": "[encoded data removed]",
      "text/plain": [
       "<matplotlib.figure.Figure at 0x106566250>"
      ]
     },
     "metadata": {},
     "output_type": "display_data"
    },
    {
     "name": "stdout",
     "output_type": "stream",
     "text": [
      "[-1539.61317625]\n"
     ]
    }
   ],
   "source": [
    "##Data Generation using numpy multivariate random. We use the same values described by [Bishop99].\n",
    "X = np.random.multivariate_normal(np.zeros(10), np.diag([5,4,3,2,1,1,1,1,1,1]), 100).T\n",
    "\n",
    "##Run Algorithm\n",
    "test = BayesianPCA(10,100)\n",
    "test.fit(X, iterations=50) \n",
    "hinton(test.means_w)\n",
    "print test.L(X)"
   ]
  },
  {
   "cell_type": "markdown",
   "metadata": {},
   "source": [
    "### 7. PCA Representation of MNIST (10 points)\n",
    "\n",
    "Download the MNIST dataset from here http://deeplearning.net/tutorial/gettingstarted.html (the page contains python code for loading the data). Run your algorithm on (part of) this dataset, and visualize the results.\n"
   ]
  },
  {
   "cell_type": "code",
   "execution_count": null,
   "metadata": {
    "collapsed": true
   },
   "outputs": [],
   "source": []
  }
 ],
 "metadata": {
  "kernelspec": {
   "display_name": "Python 2",
   "language": "python",
   "name": "python2"
  },
  "language_info": {
   "codemirror_mode": {
    "name": "ipython",
    "version": 2
   },
   "file_extension": ".py",
   "mimetype": "text/x-python",
   "name": "python",
   "nbconvert_exporter": "python",
   "pygments_lexer": "ipython2",
   "version": "2.7.6rc1"
  }
 },
 "nbformat": 4,
 "nbformat_minor": 0
}
