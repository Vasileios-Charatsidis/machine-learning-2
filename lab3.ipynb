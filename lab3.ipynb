{
 "cells": [
  {
   "cell_type": "markdown",
   "metadata": {},
   "source": [
    "# Lab 3: Bayesian PCA\n",
    "\n",
    "### Machine Learning II, 2016\n",
    "\n",
    "* The lab exercises should be made in groups of two people.\n",
    "* The deadline for part 1 is Sunday, 15 May, 23:59.\n",
    "* Assignment should be sent to taco.cohen at gmail dot com. The subject line of your email should be \"[MLII2016] lab3part1_lastname1\\_lastname2\". \n",
    "* Put your and your teammates' names in the body of the email\n",
    "* Attach the .IPYNB (IPython Notebook) file containing your code and answers. Naming of the file follows the same rule as the subject line. For example, if the subject line is \"[MLII2016] lab01\\_Kingma\\_Hu\", the attached file should be \"lab3part1\\_Kingma\\_Hu.ipynb\". Only use underscores (\"\\_\") to connect names, otherwise the files cannot be parsed.\n",
    "\n",
    "Notes on implementation:\n",
    "\n",
    "* You should write your code and answers in an IPython Notebook: http://ipython.org/notebook.html. If you have problems, please contact us.\n",
    "* Among the first lines of your notebook should be \"%pylab inline\". This imports all required modules, and your plots will appear inline.\n",
    "* NOTE: test your code and make sure we can run your notebook / scripts!\n",
    "* NOTE: please write your answers directly below the question in the notebook."
   ]
  },
  {
   "cell_type": "markdown",
   "metadata": {},
   "source": [
    "### Introduction\n",
    "\n",
    "In this lab assignment, we will implement a variational algorithm for Bayesian PCA. Unlike regular PCA based on maximization of retained variance or minimization of projection error (see Bishop, 12.1.1 and 12.1.2), probabilistic PCA defines a proper density model over observed and latent variables. We will work with a fully Bayesian model this time, which is to say that we will put priors on our parameters and will be interested in learning the posterior over those parameters. Bayesian methods are very elegant, but require a shift in mindset: we are no longer looking for a point estimate of the parameters (as in maximum likelihood or MAP), but for a full posterior distribution over the space of parameters.\n",
    "\n",
    "The integrals involved in a Bayesian analysis are usually analytically intractable, so that we must resort to approximations. In this lab assignment, we will implement the variational method described in Bishop99. Chapters 10 and 12 of the PRML book contain additional material that may be useful when doing this exercise.\n",
    "\n",
    "* [Bishop99] Variational Principal Components, C. Bishop, ICANN 1999 - http://research.microsoft.com/pubs/67241/bishop-vpca-icann-99.pdf\n",
    "\n",
    "Below, you will find some code to get you started."
   ]
  },
  {
   "cell_type": "code",
   "execution_count": null,
   "metadata": {
    "collapsed": true
   },
   "outputs": [],
   "source": [
    "%pylab inline\n",
    "import scipy.special as sp\n",
    "\n",
    "class BayesianPCA(object):\n",
    "    \n",
    "    def __init__(self, d, N, a_alpha=10e-3, b_alpha=10e-3, a_tau=10e-3, b_tau=10e-3, beta=10e-3):\n",
    "        \"\"\"\n",
    "        \"\"\"\n",
    "        self.d = d # number of dimensions\n",
    "        self.N = N # number of data points\n",
    "        \n",
    "        # Hyperparameters\n",
    "        self.a_alpha = a_alpha\n",
    "        self.b_alpha = b_alpha\n",
    "        self.a_tau = a_tau\n",
    "        self.b_tau = b_tau\n",
    "        self.beta = beta\n",
    "\n",
    "        # Variational parameters\n",
    "        self.means_z = np.random.randn(d, N) # called x in bishop99\n",
    "        self.sigma_z = np.random.randn(d, d)\n",
    "        self.mean_mu = np.random.randn(d, 1)\n",
    "        self.sigma_mu = np.random.randn(d, d)\n",
    "        self.means_w = np.random.randn(d, d)\n",
    "        self.sigma_w = np.random.randn(d, d)\n",
    "        self.a_alpha_tilde = np.abs(np.random.randn(1))\n",
    "        self.bs_alpha_tilde = np.abs(np.random.randn(d, 1))\n",
    "        self.a_tau_tilde = np.abs(np.random.randn(1))\n",
    "        self.b_tau_tilde = np.abs(np.random.randn(1))\n",
    "    \n",
    "    def __update_z(self, X):\n",
    "        pass\n",
    "    \n",
    "    def __update_mu(self):\n",
    "        pass\n",
    "    \n",
    "    def __update_w(self, X):\n",
    "        pass\n",
    "    \n",
    "    def __update_alpha(self):\n",
    "        pass\n",
    "\n",
    "    def __update_tau(self, X):\n",
    "        pass\n",
    "\n",
    "    def L(self, X):\n",
    "        L = 0.0\n",
    "        return L\n",
    "    \n",
    "    def fit(self, X):\n",
    "        pass"
   ]
  },
  {
   "cell_type": "markdown",
   "metadata": {},
   "source": [
    "---\n",
    "\n",
    "$\\newcommand{\\vt}[1]{\\mathbf{#1}}$"
   ]
  },
  {
   "cell_type": "markdown",
   "metadata": {},
   "source": [
    "### 1. The Q-distribution (5 points)\n",
    "\n",
    "In variational Bayes, we introduce a distribution $Q(\\Theta)$ over parameters / latent variables in order to make inference tractable. We can think of $Q$ as being an approximation of a certain distribution. What function does $Q$ approximate, $p(D|\\Theta)$, $p(\\Theta|D)$, $p(D, \\Theta)$, $p(\\Theta)$, or $p(D)$, and how do you see that from the equation $\\ln p(D) = \\mathcal{L}(Q) + \\mathrm{KL}(Q||P)$? (Hint: see eq. 11 in Bishop99)"
   ]
  },
  {
   "cell_type": "markdown",
   "metadata": {},
   "source": [
    "#### Answer\n",
    "From eq. 11 in Bishop99 we see that $Q$ is an approximation of $p(\\Theta|D)$. If the function $Q(\\Theta)$ is equal to $p(\\Theta|D)$, the Kullback-Leibler divergence becomes zero, and so the log-marginal $\\ln p(D)$ can be correctly estimated by $\\mathcal{L}(Q)$. So the better $Q$ approximates the true posterior, the better the estimation given by $\\mathcal{L}(Q)$ will be.\n",
    "\n",
    "---"
   ]
  },
  {
   "cell_type": "markdown",
   "metadata": {},
   "source": [
    "### 2. The mean-field approximation (15 points)\n",
    "\n",
    "Equation 13 from [Bishop99] is a very powerful result: assuming only that $Q(\\Theta)$ factorizes in a certain way (no assumptions on the functional form of the factors $Q_i$!), we get a set of coupled equations for the $Q_i$.\n",
    "\n",
    "However, the expression given in eq. 13 for Q_i contains a small mistake. Starting with the expression for the lower bound $\\mathcal{L}(Q)$, derive the correct expression (and include your derivation). You can proceed as follows: first, substitute the factorization of $Q$ (eq. 12) into the definition of $\\mathcal{L}(Q)$ and separate $\\mathcal{L}(Q)$ into $Q_i$-dependent and $Q_i$-independent terms. At this point, you should be able to spot the expectations $\\langle\\cdot\\rangle_{k \\neq i}$ over the other $Q$-distributions that appear in Bishop's solution (eq. 13). Now, keeping all $Q_k, k \\neq i$ fixed, maximize the expression with respect to $Q_i$. You should be able to spot the form of the optimal $\\ln Q_i$, from which $Q_i$ can easily be obtained."
   ]
  },
  {
   "cell_type": "markdown",
   "metadata": {},
   "source": [
    "#### Answer\n",
    "\\begin{align}\n",
    "\\mathcal{L}(Q)\n",
    "&= \\int Q(\\Theta) \\ln \\frac{P(D,\\Theta)}{Q(\\Theta)} \\mathrm{d}\\Theta \\\\\n",
    "&= \\int \\prod_{k}[Q_k(\\theta_k)] \\left\\{ \\ln[P(D,\\Theta)] - \\sum_{j}[Q_j(\\theta_j)] \\right\\} \\mathrm{d}\\Theta \\\\\n",
    "&= \\int Q_j(\\theta_j) \\left\\{ \\int \\ln[P(D,\\Theta)] \\prod_{i \\neq j}  Q_i(\\theta_i) d\\theta_i \\right\\} \\mathrm{d}\\theta_j - \\int Q_j(\\theta_j) \\ln[Q_j(\\theta_j)] \\mathrm{d}\\theta_j + \\text{const} \\\\\n",
    "&= \\int Q_j(\\theta_j)  \\ln[\\tilde{p}(D,\\Theta_j)] \\mathrm{d}\\theta_j - \\int Q_j(\\theta_j) \\ln[Q_j(\\theta_j)] \\mathrm{d}\\theta_j + \\text{const}\n",
    "\\end{align}\n",
    "where:\n",
    "$$ \\ln[\\tilde{p}(D,\\Theta_i)] = \\langle \\ln[P(D,\\Theta)] \\rangle_{k\\neq i}  + \\text{const}$$\n",
    "and \n",
    "$$  \\langle \\ln[P(D,\\Theta)] \\rangle_{k\\neq i} = \\int \\ln[P(D,\\Theta)] \\prod_{i \\neq j}  Q_i(\\theta_i) \\mathrm{d}\\theta_i $$\n",
    "\n",
    "We can see that the last result of the $\\mathcal{L}(Q)$ calculation is the negative KL divergence between $Q_j(\\theta_j)$ and $\\tilde{p}(D,\\Theta_i)$. In order to maximize $\\mathcal{L}(Q)$ we can minimize that KL divergence, which has optimum when $Q_j(\\theta_j) = \\tilde{p}(D,\\Theta_i)$. This way we get a general expression for the update of $Q_j(\\theta_j)$ which when normalised takes the form:\n",
    "$$Q_i(\\theta_i) = \\frac{\\exp \\big\\{ \\langle \\ln[P(D,\\Theta)] \\rangle_{k\\neq i} \\big\\}}{ \\int \\exp \\big\\{ \\langle \\ln[P(D,\\Theta)] \\rangle_{k\\neq i} \\big\\} \\mathrm{d}\\theta_i}$$\n",
    "\n",
    "---"
   ]
  },
  {
   "cell_type": "markdown",
   "metadata": {},
   "source": [
    "### 3. The log-probability (10 points)\n",
    "\n",
    "Write down the log-prob of data and parameters, $\\ln p(\\mathbf{X}, \\mathbf{Z}, \\mathbf{W}, \\mathbf{\\alpha}, \\tau, \\mathbf{\\mu})$, in full detail (where $\\mathbf{X}$ are observed, $\\mathbf{Z}$ is latent; this is different from [Bishop99] who uses $\\mathbf{T}$ and $\\mathbf{X}$ respectively, but $\\mathbf{X}$ and $\\mathbf{Z}$ are consistent with the PRML book and are more common nowadays). Could we use the log-prob to assess the convergence of the variational Bayesian PCA algorithm? If yes, how? If no, why not?"
   ]
  },
  {
   "cell_type": "markdown",
   "metadata": {},
   "source": [
    "#### Answer\n",
    "\\begin{align}\n",
    "    \\ln p(\\vt{X}, \\vt{Z}, \\vt{W}, \\alpha, \\tau, \\mu)\n",
    "    &=  p(\\alpha) p(\\vt{W}|\\alpha) p(\\tau) p(\\mu)\n",
    "        p(\\vt{X}|\\vt{Z},\\vt{W}, \\mu, \\tau) p(\\vt{Z}) \\\\\n",
    "    &= \\ln \\prod_{i=1}^q \\Gamma (\\alpha_i|a_\\alpha, b_\\alpha)\n",
    "        p(\\vt{W}|\\alpha) \\Gamma (\\tau|c_\\tau, d_\\tau)\n",
    "        \\mathcal{N}(\\mu|\\vt{0}, \\beta^{-1}\\vt{I})\n",
    "        p(\\vt{X}|\\vt{Z},\\vt{W}, \\mu, \\tau) p(\\vt{Z}) \\\\\n",
    "    &= \\sum_{i=1}^q \\ln \\Gamma (\\alpha_i|a_\\alpha, b_\\alpha) +\n",
    "        \\ln p(\\vt{W}|\\alpha) + \\ln \\Gamma (\\tau|c_\\tau,  d_\\tau) +\n",
    "        \\ln \\mathcal{N}(\\mu|\\vt{0}, \\beta^{-1}\\vt{I}) +\n",
    "        \\ln p(\\vt{X}|\\vt{Z},\\vt{W}, \\mu, \\tau) + \\ln p(\\vt{Z}) \\\\\n",
    "    &= \\sum_{i=1}^q \\ln \\Gamma (\\alpha_i|a_\\alpha, b_\\alpha) +\n",
    "        \\ln p(\\vt{W}|\\alpha) + \\ln \\Gamma (\\tau|c_\\tau,  d_\\tau) +\n",
    "        \\ln \\mathcal{N}(\\mu|\\vt{0}, \\beta^{-1}\\vt{I}) +\n",
    "        \\\\ & \\quad\n",
    "        + \\sum_{n=1}^N\\ln p(x_n|z_n,\\vt{W}, \\mu, \\tau) + \\sum_{n=1}^N\\ln p(z_n) \\\\\n",
    "    &= \\sum_{i=1}^q \\ln \\Gamma (\\alpha_i|a_\\alpha, b_\\alpha) +\n",
    "        \\ln p(\\vt{W}|\\alpha) + \\ln \\Gamma (\\tau|c_\\tau,  d_\\tau) +\n",
    "        \\ln \\mathcal{N}(\\mu|\\vt{0}, \\beta^{-1}\\vt{I}) +\n",
    "        \\\\ & \\quad\n",
    "        + \\sum_{n=1}^N\\ln \\mathcal{N}(x_n|\\vt{W}z_n + \\mu, \\tau^{-1}\\vt{I}_d) + \n",
    "        \\sum_{n=1}^N\\ln \\mathcal{N}(z_n|\\vt{0}, \\vt{I}_q) \\\\\n",
    "    &= \\sum_{i=1}^q \\left[ a_{\\alpha}\\ln b_{\\alpha} - \\ln\\Gamma(a_{\\alpha}) + \n",
    "        (a_{\\alpha}-1)\\ln\\alpha_i-b_{\\alpha}\\alpha_i \\right] +\n",
    "        \\sum_{i=1}^q \\left[ \\frac{d}{2}(\\ln\\alpha_i-\\ln2\\pi) - \\frac{1}{2}\\alpha_i||\\vt{w}_i||^2 \\right] +\n",
    "        \\\\ & \\quad\n",
    "        +c_\\tau\\ln d_\\tau - \\ln\\Gamma(c_\\tau) - d_\\tau\\tau - \\frac{d}{2}\\ln2\\pi\\beta^{-1} -\n",
    "        \\frac{1}{2\\beta^{-1}}\\mu^T\\vt{I}\\mu +\n",
    "        \\\\ & \\quad\n",
    "        +\\sum_{n=1}^N \\left[ -\\frac{d}{2}\\ln2\\pi\\tau^{-1} -\\frac{1}{2\\tau^{-1}}\n",
    "            \\big( x_n - \\vt{W}z_n - \\mu \\big)^T\\vt{I}\\big( x_n - \\vt{W}z_n - \\mu \\big)\n",
    "        \\right] +\n",
    "        \\sum_{n=1}^N \\left[ -\\frac{d}{2}\\ln 2\\pi -\\frac{1}{2}z_n^T\\vt{I}z_n \\right] \\\\\n",
    "    &= q\\left[a_\\alpha\\ln b_\\alpha - \\ln\\Gamma(a_\\alpha)\\right] +\n",
    "        (a_\\alpha-1+\\frac{d}{2})\\sum_{i=1}^q\\ln\\alpha_i - b_\\alpha\\sum_{i=1}^q\\alpha_i -\n",
    "        \\left( \\frac{qd}{2}+\\frac{qN}{2} \\right)\\ln2\\pi - \n",
    "        \\\\ & \\quad\n",
    "        - \\frac{1}{2}\\sum_{i=1}^q\\alpha_i||\\vt{w}_i||^2 +\n",
    "        c_\\tau\\ln d_\\tau - \\ln\\Gamma(c_\\tau) - d_\\tau\\tau - \\frac{d}{2}\\ln2\\pi\\beta^{-1} -\n",
    "        \\frac{1}{2\\beta^{-1}}\\mu^T\\vt{I}\\mu - \\frac{dN}{2}\\ln2\\pi\\tau^{-1} -\n",
    "        \\\\ & \\quad\n",
    "        - \\frac{1}{2\\tau^{-1}}\\sum_{n=1}^N\\big(x_n-\\vt{W}z_n-\\mu\\big)^T\\vt{I}\\big(x_n-\\vt{W}z_n-\\mu\\big) -\n",
    "        \\frac{1}{2}\\sum_{n=1}^N z_n^T\\vt{I}z_n\n",
    "\\end{align}\n",
    "\n",
    "The log-prob of data and parameters is used to compute the lower bound $\\mathcal{L}(Q)$, which, as also stated in Bishop99, can be used to monitor the convergence of the variational optimization algorithm.\n",
    "Moreover, at the end of optimization, the partial derivatives of the lower bound with respect to the individual parameters of the $Q$ distribution can be calculated numerically in order to see if they are indeed close to zero.\n",
    "\n",
    "---"
   ]
  },
  {
   "cell_type": "markdown",
   "metadata": {},
   "source": [
    "### 4. The lower bound $\\mathcal{L}(Q)$ (25 points)\n",
    "\n",
    "Derive an expression for the lower bound $\\mathcal{L}(Q)$ of the log-prob $\\ln p(X)$ for Bayesian PCA, making use of the factorization (eq. 12) and the form of the Q-distributions (eq. 16-20) as listed in [Bishop99]. Show your steps. Implement this function.\n",
    "\n",
    "The following result may be useful:\n",
    "\n",
    "For $x \\sim \\Gamma(a,b)$, we have $\\langle \\ln x\\rangle = \\ln b + \\psi(a)$, where $\\psi(a) = \\frac{\\Gamma'(a)}{\\Gamma(a)}$ is the digamma function (which is implemented in numpy.special)."
   ]
  },
  {
   "cell_type": "markdown",
   "metadata": {},
   "source": [
    "#### Answer\n",
    "\n",
    "\n",
    "---"
   ]
  },
  {
   "cell_type": "markdown",
   "metadata": {},
   "source": [
    "### 5. Optimize variational parameters (50 points)\n",
    "Implement the update equations for the Q-distributions, in the __update_XXX methods. Each update function should re-estimate the variational parameters of the Q-distribution corresponding to one group of variables (i.e. either $Z$, $\\mu$, $W$, $\\alpha$ or $\\tau$).\n",
    "\n",
    "Hint: if you run into numerical instabilities resulting from the gamma function use the gammaln function from numpy.special."
   ]
  },
  {
   "cell_type": "markdown",
   "metadata": {},
   "source": [
    "### 6. Learning algorithm (10 points)\n",
    "Implement the learning algorithm described in [Bishop99], i.e. iteratively optimize each of the Q-distributions holding the others fixed.\n",
    "\n",
    "What would be a good way to track convergence of the algorithm? Implement your suggestion.\n",
    "\n",
    "Test the algorithm on some test data drawn from a Gaussian with different variances in orthogonal directions. "
   ]
  },
  {
   "cell_type": "markdown",
   "metadata": {},
   "source": [
    "### 7. PCA Representation of MNIST (10 points)\n",
    "\n",
    "Download the MNIST dataset from here http://deeplearning.net/tutorial/gettingstarted.html (the page contains python code for loading the data). Run your algorithm on (part of) this dataset, and visualize the results.\n"
   ]
  },
  {
   "cell_type": "code",
   "execution_count": null,
   "metadata": {
    "collapsed": true
   },
   "outputs": [],
   "source": []
  }
 ],
 "metadata": {
  "kernelspec": {
   "display_name": "Python 2",
   "language": "python",
   "name": "python2"
  },
  "language_info": {
   "codemirror_mode": {
    "name": "ipython",
    "version": 2
   },
   "file_extension": ".py",
   "mimetype": "text/x-python",
   "name": "python",
   "nbconvert_exporter": "python",
   "pygments_lexer": "ipython2",
   "version": "2.7.6"
  }
 },
 "nbformat": 4,
 "nbformat_minor": 0
}
